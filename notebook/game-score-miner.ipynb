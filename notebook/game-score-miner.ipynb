{
 "cells": [
  {
   "cell_type": "markdown",
   "id": "36f06a53",
   "metadata": {},
   "source": [
    "# need data for each game and final score"
   ]
  },
  {
   "cell_type": "code",
   "execution_count": 1,
   "id": "8e522e3f",
   "metadata": {},
   "outputs": [],
   "source": [
    "import requests\n",
    "import pprint\n",
    "import os\n",
    "import json\n",
    "import pandas as pd\n",
    "import numpy as np\n",
    "import datetime\n",
    "import matplotlib.pyplot as plt\n",
    "from datetime import datetime, timedelta\n"
   ]
  },
  {
   "cell_type": "code",
   "execution_count": 153,
   "id": "cbc76c7c",
   "metadata": {},
   "outputs": [
    {
     "name": "stdout",
     "output_type": "stream",
     "text": [
      "...scraping 2010-11\n",
      "could not find gameId: 1231\n",
      "scraped 2460 games\n",
      "\n"
     ]
    }
   ],
   "source": [
    "seasons = list(range(2010,2011))\n",
    "max_game_id = 1313 # 32 teams can play 82 games each ... 32*82/2 == 1312\n",
    "\n",
    "\n",
    "for season in seasons:\n",
    "    print(f'...scraping {season}-{str(season+1)[2:]}')\n",
    "    # scrape games for this season\n",
    "    games = []\n",
    "    last_date = '' # in case some games do not record a startDate\n",
    "    for game_id in range(1, max_game_id):\n",
    "        try:\n",
    "            r = requests.get(f'https://statsapi.web.nhl.com/api/v1/game/{season}02{str(game_id).zfill(4)}/linescore')\n",
    "            d = r.json()\n",
    "\n",
    "            szn = f'{season}-{str(season+1)[2:]}'\n",
    "            try:\n",
    "                date = d['periods'][0]['startTime']\n",
    "                last_date = date\n",
    "            except:\n",
    "                date = last_date\n",
    "            last_period = d['periods'][-1]\n",
    "            last_period_type = last_period['periodType']\n",
    "            home_team = d['teams']['home']['team']['name']\n",
    "            away_team = d['teams']['away']['team']['name']\n",
    "            home_goals = d['teams']['home']['goals']\n",
    "            away_goals = d['teams']['away']['goals']\n",
    "            games.append([szn, date, last_period_type, home_team, away_team, home_goals, away_goals])\n",
    "        except:\n",
    "            print('could not find gameId: ' + str(game_id))\n",
    "            break\n",
    "    df = pd.DataFrame(games)\n",
    "    df.columns = ['season', 'date', 'period_type', 'home_team', 'away_team', 'home_goals', 'away_goals']\n",
    "    \n",
    "    # calculate which teams get points in game\n",
    "    df['home_points'] = np.where(df['home_goals']>df['away_goals'], 2,\n",
    "                                 np.where(df['period_type']=='OVERTIME', 1, 0))\n",
    "\n",
    "    df['away_points'] = np.where(df['home_goals']<df['away_goals'], 2,\n",
    "                                 np.where(df['period_type']=='OVERTIME', 1, 0))\n",
    "\n",
    "    # convert datetime to date\n",
    "    df['date'] = pd.to_datetime(df['date']).dt.date\n",
    "\n",
    "    # alter dataframe to have 3 columns: date, team, and points \n",
    "    df_home = df[['season', 'date', 'home_team', 'home_points']]\n",
    "    df_home.columns = ['season', 'date', 'team', 'points']\n",
    "    df_away = df[['season', 'date', 'away_team', 'away_points']]\n",
    "    df_away.columns = ['season', 'date', 'team', 'points']\n",
    "    df = result = pd.concat([df_home, df_away]).sort_values('date')\n",
    "\n",
    "    #########################################\n",
    "    # scrape divisions for this season\n",
    "    r = requests.get(f'https://statsapi.web.nhl.com/api/v1/teams?season={season}{season+1}')\n",
    "    d = r.json()\n",
    "    team_and_division = [[team['name'], team['division']['name'], team['conference']['name']] for team in d['teams']]\n",
    "    df_divisions = pd.DataFrame(team_and_division)\n",
    "    df_divisions.columns = ['team', 'division', 'conference']\n",
    "    \n",
    "    # merge division/conference for each team\n",
    "    df.sort_values(by=['team', 'date'], inplace=True)\n",
    "    df_divisions.sort_values(by=['team'], inplace=True)\n",
    "    df = df.merge(df_divisions, how='left', on='team')\n",
    "    \n",
    "    #########################################\n",
    "    df.to_csv(f'linescore/games{season}-{str(season+1)[2:]}.csv', index=False)\n",
    "    print(f'scraped {len(df)} games')\n",
    "    print()"
   ]
  },
  {
   "cell_type": "markdown",
   "id": "d23f540a",
   "metadata": {},
   "source": [
    "# Concatenate all data and calculate metrics"
   ]
  },
  {
   "cell_type": "code",
   "execution_count": 2,
   "id": "e56672ad",
   "metadata": {},
   "outputs": [],
   "source": [
    "li = []\n",
    "filenames = [f'linescore/games{season}-{str(season+1)[2:]}.csv' for season in range(2011,2021)]\n",
    "\n",
    "for filename in filenames:\n",
    "    df = pd.read_csv(filename, index_col=None, header=0)\n",
    "    li.append(df)\n",
    "\n",
    "df = pd.concat(li, axis=0, ignore_index=True)"
   ]
  },
  {
   "cell_type": "code",
   "execution_count": 3,
   "id": "3e969f17",
   "metadata": {},
   "outputs": [
    {
     "data": {
      "text/html": [
       "<div>\n",
       "<style scoped>\n",
       "    .dataframe tbody tr th:only-of-type {\n",
       "        vertical-align: middle;\n",
       "    }\n",
       "\n",
       "    .dataframe tbody tr th {\n",
       "        vertical-align: top;\n",
       "    }\n",
       "\n",
       "    .dataframe thead th {\n",
       "        text-align: right;\n",
       "    }\n",
       "</style>\n",
       "<table border=\"1\" class=\"dataframe\">\n",
       "  <thead>\n",
       "    <tr style=\"text-align: right;\">\n",
       "      <th></th>\n",
       "      <th>season</th>\n",
       "      <th>date</th>\n",
       "      <th>team</th>\n",
       "      <th>points</th>\n",
       "      <th>division</th>\n",
       "      <th>conference</th>\n",
       "    </tr>\n",
       "  </thead>\n",
       "  <tbody>\n",
       "    <tr>\n",
       "      <th>0</th>\n",
       "      <td>2011-12</td>\n",
       "      <td>2011-10-08</td>\n",
       "      <td>Anaheim Ducks</td>\n",
       "      <td>0</td>\n",
       "      <td>Pacific</td>\n",
       "      <td>Western</td>\n",
       "    </tr>\n",
       "    <tr>\n",
       "      <th>1</th>\n",
       "      <td>2011-12</td>\n",
       "      <td>2011-10-09</td>\n",
       "      <td>Anaheim Ducks</td>\n",
       "      <td>2</td>\n",
       "      <td>Pacific</td>\n",
       "      <td>Western</td>\n",
       "    </tr>\n",
       "    <tr>\n",
       "      <th>2</th>\n",
       "      <td>2011-12</td>\n",
       "      <td>2011-10-15</td>\n",
       "      <td>Anaheim Ducks</td>\n",
       "      <td>2</td>\n",
       "      <td>Pacific</td>\n",
       "      <td>Western</td>\n",
       "    </tr>\n",
       "    <tr>\n",
       "      <th>3</th>\n",
       "      <td>2011-12</td>\n",
       "      <td>2011-10-17</td>\n",
       "      <td>Anaheim Ducks</td>\n",
       "      <td>2</td>\n",
       "      <td>Pacific</td>\n",
       "      <td>Western</td>\n",
       "    </tr>\n",
       "    <tr>\n",
       "      <th>4</th>\n",
       "      <td>2011-12</td>\n",
       "      <td>2011-10-18</td>\n",
       "      <td>Anaheim Ducks</td>\n",
       "      <td>2</td>\n",
       "      <td>Pacific</td>\n",
       "      <td>Western</td>\n",
       "    </tr>\n",
       "  </tbody>\n",
       "</table>\n",
       "</div>"
      ],
      "text/plain": [
       "    season        date           team  points division conference\n",
       "0  2011-12  2011-10-08  Anaheim Ducks       0  Pacific    Western\n",
       "1  2011-12  2011-10-09  Anaheim Ducks       2  Pacific    Western\n",
       "2  2011-12  2011-10-15  Anaheim Ducks       2  Pacific    Western\n",
       "3  2011-12  2011-10-17  Anaheim Ducks       2  Pacific    Western\n",
       "4  2011-12  2011-10-18  Anaheim Ducks       2  Pacific    Western"
      ]
     },
     "execution_count": 3,
     "metadata": {},
     "output_type": "execute_result"
    }
   ],
   "source": [
    "df.head()"
   ]
  },
  {
   "cell_type": "markdown",
   "id": "c9f3d9fa",
   "metadata": {},
   "source": [
    "### calculate cumulative point totals and total percentage of points for any day"
   ]
  },
  {
   "cell_type": "code",
   "execution_count": 4,
   "id": "f2790396",
   "metadata": {},
   "outputs": [],
   "source": [
    "# get a cumulative sum of points for each team\n",
    "df['cum_points'] = df.groupby(['season', 'team'])['points'].cumsum()\n",
    "\n",
    "# get points percentage for each team\n",
    "df['possible_points'] = [2] * len(df)\n",
    "df['total_possible_points'] = df.groupby(['season', 'team'])['possible_points'].cumsum()\n",
    "df['points_pct'] = df['cum_points'] / df['total_possible_points']"
   ]
  },
  {
   "cell_type": "code",
   "execution_count": 5,
   "id": "afbeace9",
   "metadata": {},
   "outputs": [],
   "source": [
    "df = df[['season', 'date', 'team', 'division', 'conference', 'cum_points', 'points_pct']]\n",
    "df['date'] = pd.to_datetime(df['date']) # change date to datetime format"
   ]
  },
  {
   "cell_type": "code",
   "execution_count": 6,
   "id": "d04be482",
   "metadata": {},
   "outputs": [
    {
     "data": {
      "text/html": [
       "<div>\n",
       "<style scoped>\n",
       "    .dataframe tbody tr th:only-of-type {\n",
       "        vertical-align: middle;\n",
       "    }\n",
       "\n",
       "    .dataframe tbody tr th {\n",
       "        vertical-align: top;\n",
       "    }\n",
       "\n",
       "    .dataframe thead th {\n",
       "        text-align: right;\n",
       "    }\n",
       "</style>\n",
       "<table border=\"1\" class=\"dataframe\">\n",
       "  <thead>\n",
       "    <tr style=\"text-align: right;\">\n",
       "      <th></th>\n",
       "      <th>season</th>\n",
       "      <th>date</th>\n",
       "      <th>team</th>\n",
       "      <th>division</th>\n",
       "      <th>conference</th>\n",
       "      <th>cum_points</th>\n",
       "      <th>points_pct</th>\n",
       "    </tr>\n",
       "  </thead>\n",
       "  <tbody>\n",
       "    <tr>\n",
       "      <th>410</th>\n",
       "      <td>2011-12</td>\n",
       "      <td>2011-10-08</td>\n",
       "      <td>Chicago Blackhawks</td>\n",
       "      <td>Central</td>\n",
       "      <td>Western</td>\n",
       "      <td>0</td>\n",
       "      <td>0.000000</td>\n",
       "    </tr>\n",
       "    <tr>\n",
       "      <th>411</th>\n",
       "      <td>2011-12</td>\n",
       "      <td>2011-10-09</td>\n",
       "      <td>Chicago Blackhawks</td>\n",
       "      <td>Central</td>\n",
       "      <td>Western</td>\n",
       "      <td>2</td>\n",
       "      <td>0.500000</td>\n",
       "    </tr>\n",
       "    <tr>\n",
       "      <th>412</th>\n",
       "      <td>2011-12</td>\n",
       "      <td>2011-10-14</td>\n",
       "      <td>Chicago Blackhawks</td>\n",
       "      <td>Central</td>\n",
       "      <td>Western</td>\n",
       "      <td>4</td>\n",
       "      <td>0.666667</td>\n",
       "    </tr>\n",
       "    <tr>\n",
       "      <th>413</th>\n",
       "      <td>2011-12</td>\n",
       "      <td>2011-10-16</td>\n",
       "      <td>Chicago Blackhawks</td>\n",
       "      <td>Central</td>\n",
       "      <td>Western</td>\n",
       "      <td>5</td>\n",
       "      <td>0.625000</td>\n",
       "    </tr>\n",
       "    <tr>\n",
       "      <th>414</th>\n",
       "      <td>2011-12</td>\n",
       "      <td>2011-10-19</td>\n",
       "      <td>Chicago Blackhawks</td>\n",
       "      <td>Central</td>\n",
       "      <td>Western</td>\n",
       "      <td>7</td>\n",
       "      <td>0.700000</td>\n",
       "    </tr>\n",
       "    <tr>\n",
       "      <th>...</th>\n",
       "      <td>...</td>\n",
       "      <td>...</td>\n",
       "      <td>...</td>\n",
       "      <td>...</td>\n",
       "      <td>...</td>\n",
       "      <td>...</td>\n",
       "      <td>...</td>\n",
       "    </tr>\n",
       "    <tr>\n",
       "      <th>21375</th>\n",
       "      <td>2020-21</td>\n",
       "      <td>2021-05-03</td>\n",
       "      <td>Chicago Blackhawks</td>\n",
       "      <td>Discover Central</td>\n",
       "      <td>Western</td>\n",
       "      <td>50</td>\n",
       "      <td>0.480769</td>\n",
       "    </tr>\n",
       "    <tr>\n",
       "      <th>21376</th>\n",
       "      <td>2020-21</td>\n",
       "      <td>2021-05-04</td>\n",
       "      <td>Chicago Blackhawks</td>\n",
       "      <td>Discover Central</td>\n",
       "      <td>Western</td>\n",
       "      <td>50</td>\n",
       "      <td>0.471698</td>\n",
       "    </tr>\n",
       "    <tr>\n",
       "      <th>21377</th>\n",
       "      <td>2020-21</td>\n",
       "      <td>2021-05-06</td>\n",
       "      <td>Chicago Blackhawks</td>\n",
       "      <td>Discover Central</td>\n",
       "      <td>Western</td>\n",
       "      <td>52</td>\n",
       "      <td>0.481481</td>\n",
       "    </tr>\n",
       "    <tr>\n",
       "      <th>21378</th>\n",
       "      <td>2020-21</td>\n",
       "      <td>2021-05-09</td>\n",
       "      <td>Chicago Blackhawks</td>\n",
       "      <td>Discover Central</td>\n",
       "      <td>Western</td>\n",
       "      <td>54</td>\n",
       "      <td>0.490909</td>\n",
       "    </tr>\n",
       "    <tr>\n",
       "      <th>21379</th>\n",
       "      <td>2020-21</td>\n",
       "      <td>2021-05-11</td>\n",
       "      <td>Chicago Blackhawks</td>\n",
       "      <td>Discover Central</td>\n",
       "      <td>Western</td>\n",
       "      <td>55</td>\n",
       "      <td>0.491071</td>\n",
       "    </tr>\n",
       "  </tbody>\n",
       "</table>\n",
       "<p>748 rows × 7 columns</p>\n",
       "</div>"
      ],
      "text/plain": [
       "        season       date                team          division conference  \\\n",
       "410    2011-12 2011-10-08  Chicago Blackhawks           Central    Western   \n",
       "411    2011-12 2011-10-09  Chicago Blackhawks           Central    Western   \n",
       "412    2011-12 2011-10-14  Chicago Blackhawks           Central    Western   \n",
       "413    2011-12 2011-10-16  Chicago Blackhawks           Central    Western   \n",
       "414    2011-12 2011-10-19  Chicago Blackhawks           Central    Western   \n",
       "...        ...        ...                 ...               ...        ...   \n",
       "21375  2020-21 2021-05-03  Chicago Blackhawks  Discover Central    Western   \n",
       "21376  2020-21 2021-05-04  Chicago Blackhawks  Discover Central    Western   \n",
       "21377  2020-21 2021-05-06  Chicago Blackhawks  Discover Central    Western   \n",
       "21378  2020-21 2021-05-09  Chicago Blackhawks  Discover Central    Western   \n",
       "21379  2020-21 2021-05-11  Chicago Blackhawks  Discover Central    Western   \n",
       "\n",
       "       cum_points  points_pct  \n",
       "410             0    0.000000  \n",
       "411             2    0.500000  \n",
       "412             4    0.666667  \n",
       "413             5    0.625000  \n",
       "414             7    0.700000  \n",
       "...           ...         ...  \n",
       "21375          50    0.480769  \n",
       "21376          50    0.471698  \n",
       "21377          52    0.481481  \n",
       "21378          54    0.490909  \n",
       "21379          55    0.491071  \n",
       "\n",
       "[748 rows x 7 columns]"
      ]
     },
     "execution_count": 6,
     "metadata": {},
     "output_type": "execute_result"
    }
   ],
   "source": [
    "df[df['team']=='Chicago Blackhawks']"
   ]
  },
  {
   "cell_type": "markdown",
   "id": "955d3763",
   "metadata": {},
   "source": [
    "### calculate point thresholds for playoff spots\n",
    "* for each season\n",
    "    * for each day\n",
    "        * for each division/conference\n",
    "            * get number of points held by last available playoff spot"
   ]
  },
  {
   "cell_type": "code",
   "execution_count": 7,
   "id": "d7e53e75",
   "metadata": {},
   "outputs": [],
   "source": [
    "# find cumulative points threshold for divisional playoff spot\n",
    "def division_playoff_spot(season, date, division, df):\n",
    "    cutoff = 2\n",
    "    if season <= '2012-13':\n",
    "        cutoff = 0\n",
    "    elif season == '2020-21':\n",
    "        cutoff = 3\n",
    "    try:\n",
    "        return df[(df['season']==season) &\n",
    "                    (df['date'] <= date) &\n",
    "                    (df['division']==division)] \\\n",
    "                    .sort_values(by='date', ascending=False) \\\n",
    "                    .drop_duplicates(subset = [\"team\"]) \\\n",
    "                    .sort_values(by='cum_points', ascending=False) \\\n",
    "                    .reset_index()['cum_points'][cutoff]\n",
    "    except:\n",
    "        return 0  # need this in start of season when less than 3 teams have played a game\n",
    "\n",
    "# find cumulative points threshold for conference playoff spot\n",
    "def conference_playoff_spot(season, date, conference, df):\n",
    "    if season == '2020-21':\n",
    "        return 0 # no conference playoff spots for this season\n",
    "    try:\n",
    "        return df[(df['season']==season) &\n",
    "                    (df['date'] <= date) &\n",
    "                    (df['conference']==conference)] \\\n",
    "                    .sort_values(by='date', ascending=False) \\\n",
    "                    .drop_duplicates(subset = [\"team\"]) \\\n",
    "                    .sort_values(by='cum_points', ascending=False) \\\n",
    "                    .reset_index()['cum_points'][7]\n",
    "    except:\n",
    "        return 0  # need this in start of season when less than 3 teams have played a game"
   ]
  },
  {
   "cell_type": "code",
   "execution_count": 16,
   "id": "00ae7393",
   "metadata": {},
   "outputs": [],
   "source": [
    "thresholds = []\n",
    "for season in df['season'].unique():\n",
    "    for division in df[df['season']==season]['division'].unique():\n",
    "        dates = np.arange(datetime(int(season[:4]),6,1), datetime(int(season[:4])+1,6,1), timedelta(days=1)).astype(datetime)\n",
    "        for date in dates:\n",
    "            thresholds.append([season, date, division, division_playoff_spot(season, date, division, df)])\n",
    "\n",
    "    for conference in df[df['season']==season]['conference'].unique():\n",
    "        dates = np.arange(datetime(int(season[:4]),6,1), datetime(int(season[:4])+1,6,1), timedelta(days=1)).astype(datetime)\n",
    "        for date in dates:\n",
    "            thresholds.append([season, date, conference, conference_playoff_spot(season, date, conference, df)])\n"
   ]
  },
  {
   "cell_type": "code",
   "execution_count": 17,
   "id": "09b389f0",
   "metadata": {},
   "outputs": [
    {
     "data": {
      "text/html": [
       "<div>\n",
       "<style scoped>\n",
       "    .dataframe tbody tr th:only-of-type {\n",
       "        vertical-align: middle;\n",
       "    }\n",
       "\n",
       "    .dataframe tbody tr th {\n",
       "        vertical-align: top;\n",
       "    }\n",
       "\n",
       "    .dataframe thead th {\n",
       "        text-align: right;\n",
       "    }\n",
       "</style>\n",
       "<table border=\"1\" class=\"dataframe\">\n",
       "  <thead>\n",
       "    <tr style=\"text-align: right;\">\n",
       "      <th></th>\n",
       "      <th>season</th>\n",
       "      <th>date</th>\n",
       "      <th>div_conf_name</th>\n",
       "      <th>points_threshold</th>\n",
       "    </tr>\n",
       "  </thead>\n",
       "  <tbody>\n",
       "    <tr>\n",
       "      <th>0</th>\n",
       "      <td>2011-12</td>\n",
       "      <td>2011-06-01</td>\n",
       "      <td>Pacific</td>\n",
       "      <td>0</td>\n",
       "    </tr>\n",
       "    <tr>\n",
       "      <th>1</th>\n",
       "      <td>2011-12</td>\n",
       "      <td>2011-06-02</td>\n",
       "      <td>Pacific</td>\n",
       "      <td>0</td>\n",
       "    </tr>\n",
       "    <tr>\n",
       "      <th>2</th>\n",
       "      <td>2011-12</td>\n",
       "      <td>2011-06-03</td>\n",
       "      <td>Pacific</td>\n",
       "      <td>0</td>\n",
       "    </tr>\n",
       "    <tr>\n",
       "      <th>3</th>\n",
       "      <td>2011-12</td>\n",
       "      <td>2011-06-04</td>\n",
       "      <td>Pacific</td>\n",
       "      <td>0</td>\n",
       "    </tr>\n",
       "    <tr>\n",
       "      <th>4</th>\n",
       "      <td>2011-12</td>\n",
       "      <td>2011-06-05</td>\n",
       "      <td>Pacific</td>\n",
       "      <td>0</td>\n",
       "    </tr>\n",
       "    <tr>\n",
       "      <th>...</th>\n",
       "      <td>...</td>\n",
       "      <td>...</td>\n",
       "      <td>...</td>\n",
       "      <td>...</td>\n",
       "    </tr>\n",
       "    <tr>\n",
       "      <th>23375</th>\n",
       "      <td>2020-21</td>\n",
       "      <td>2021-05-27</td>\n",
       "      <td>Eastern</td>\n",
       "      <td>0</td>\n",
       "    </tr>\n",
       "    <tr>\n",
       "      <th>23376</th>\n",
       "      <td>2020-21</td>\n",
       "      <td>2021-05-28</td>\n",
       "      <td>Eastern</td>\n",
       "      <td>0</td>\n",
       "    </tr>\n",
       "    <tr>\n",
       "      <th>23377</th>\n",
       "      <td>2020-21</td>\n",
       "      <td>2021-05-29</td>\n",
       "      <td>Eastern</td>\n",
       "      <td>0</td>\n",
       "    </tr>\n",
       "    <tr>\n",
       "      <th>23378</th>\n",
       "      <td>2020-21</td>\n",
       "      <td>2021-05-30</td>\n",
       "      <td>Eastern</td>\n",
       "      <td>0</td>\n",
       "    </tr>\n",
       "    <tr>\n",
       "      <th>23379</th>\n",
       "      <td>2020-21</td>\n",
       "      <td>2021-05-31</td>\n",
       "      <td>Eastern</td>\n",
       "      <td>0</td>\n",
       "    </tr>\n",
       "  </tbody>\n",
       "</table>\n",
       "<p>23380 rows × 4 columns</p>\n",
       "</div>"
      ],
      "text/plain": [
       "        season       date div_conf_name  points_threshold\n",
       "0      2011-12 2011-06-01       Pacific                 0\n",
       "1      2011-12 2011-06-02       Pacific                 0\n",
       "2      2011-12 2011-06-03       Pacific                 0\n",
       "3      2011-12 2011-06-04       Pacific                 0\n",
       "4      2011-12 2011-06-05       Pacific                 0\n",
       "...        ...        ...           ...               ...\n",
       "23375  2020-21 2021-05-27       Eastern                 0\n",
       "23376  2020-21 2021-05-28       Eastern                 0\n",
       "23377  2020-21 2021-05-29       Eastern                 0\n",
       "23378  2020-21 2021-05-30       Eastern                 0\n",
       "23379  2020-21 2021-05-31       Eastern                 0\n",
       "\n",
       "[23380 rows x 4 columns]"
      ]
     },
     "execution_count": 17,
     "metadata": {},
     "output_type": "execute_result"
    }
   ],
   "source": [
    "df_thr = pd.DataFrame(thresholds)\n",
    "df_thr.columns = ['season', 'date', 'div_conf_name', 'points_threshold']\n",
    "df_thr"
   ]
  },
  {
   "cell_type": "code",
   "execution_count": 19,
   "id": "5240c72b",
   "metadata": {},
   "outputs": [
    {
     "data": {
      "text/plain": [
       "[<matplotlib.lines.Line2D at 0x7fceff9106a0>]"
      ]
     },
     "metadata": {},
     "output_type": "display_data"
    },
    {
     "data": {
      "text/plain": [
       "[<matplotlib.lines.Line2D at 0x7fcefff15a60>]"
      ]
     },
     "metadata": {},
     "output_type": "display_data"
    },
    {
     "data": {
      "image/png": "[encoded data removed]",
      "text/plain": [
       "<Figure size 432x288 with 1 Axes>"
      ]
     },
     "metadata": {
      "needs_background": "light"
     },
     "output_type": "display_data"
    }
   ],
   "source": [
    "display(plt.plot(df_thr[df_thr['div_conf_name']=='Eastern']['date'], df_thr[df_thr['div_conf_name']=='Eastern']['points_threshold'], linestyle = 'solid', color='red'))\n",
    "display(plt.plot(df_thr[df_thr['div_conf_name']=='Western']['date'], df_thr[df_thr['div_conf_name']=='Eastern']['points_threshold'], linestyle = 'solid', color='blue'))\n",
    "\n"
   ]
  },
  {
   "cell_type": "code",
   "execution_count": 21,
   "id": "a938f0a3",
   "metadata": {},
   "outputs": [
    {
     "data": {
      "text/plain": [
       "[<matplotlib.lines.Line2D at 0x7fceffe45370>]"
      ]
     },
     "metadata": {},
     "output_type": "display_data"
    },
    {
     "data": {
      "text/plain": [
       "[<matplotlib.lines.Line2D at 0x7fceffe6ffa0>]"
      ]
     },
     "metadata": {},
     "output_type": "display_data"
    },
    {
     "data": {
      "text/plain": [
       "[<matplotlib.lines.Line2D at 0x7fceffe7b370>]"
      ]
     },
     "metadata": {},
     "output_type": "display_data"
    },
    {
     "data": {
      "text/plain": [
       "[<matplotlib.lines.Line2D at 0x7fceffe7b730>]"
      ]
     },
     "metadata": {},
     "output_type": "display_data"
    },
    {
     "data": {
      "text/plain": [
       "[<matplotlib.lines.Line2D at 0x7fceffe7bb80>]"
      ]
     },
     "metadata": {},
     "output_type": "display_data"
    },
    {
     "data": {
      "text/plain": [
       "[<matplotlib.lines.Line2D at 0x7fceffe7be50>]"
      ]
     },
     "metadata": {},
     "output_type": "display_data"
    },
    {
     "data": {
      "image/png": "[encoded data removed]",
      "text/plain": [
       "<Figure size 432x288 with 1 Axes>"
      ]
     },
     "metadata": {
      "needs_background": "light"
     },
     "output_type": "display_data"
    }
   ],
   "source": [
    "df_thr_tmp = df_thr[df_thr['season']=='2019-20']\n",
    "for div in df_thr_tmp['div_conf_name'].unique():\n",
    "    df_div = df_thr_tmp[df_thr_tmp['div_conf_name']==div]\n",
    "    display(plt.plot(df_div['date'], df_div['points_threshold'], linestyle = 'solid'))\n"
   ]
  },
  {
   "cell_type": "code",
   "execution_count": 18,
   "id": "87f5f648",
   "metadata": {},
   "outputs": [],
   "source": [
    "df_thr.to_csv(f'linescore/playoff_thresholds.csv', index=False)"
   ]
  },
  {
   "cell_type": "markdown",
   "id": "d23d434f",
   "metadata": {},
   "source": [
    "### get team standings every day in year"
   ]
  },
  {
   "cell_type": "code",
   "execution_count": 49,
   "id": "e6eece06",
   "metadata": {},
   "outputs": [],
   "source": [
    "def get_cum_points(date, team, df):\n",
    "    try:\n",
    "        return df[(df['date']==date) & (df['team']==team)]['cum_points'].reset_index()['cum_points'][0]\n",
    "    except:\n",
    "        return 0"
   ]
  },
  {
   "cell_type": "code",
   "execution_count": 95,
   "id": "0fa9e79f",
   "metadata": {},
   "outputs": [],
   "source": [
    "standings = []\n",
    "# season = '2020-21'\n",
    "for season in df['season'].unique():\n",
    "    for team in df[df['season']==season]['team'].unique():\n",
    "        division = df[(df['season']==season) & (df['team']==team)].reset_index()['division'][0]\n",
    "        conference = df[(df['season']==season) & (df['team']==team)].reset_index()['conference'][0]\n",
    "        last_point_total = 0\n",
    "        dates = np.arange(datetime(int(season[:4]),6,1), datetime(int(season[:4])+1,6,1), timedelta(days=1)).astype(datetime)\n",
    "        for date in dates:\n",
    "            this_day_points = get_cum_points(date, team, df)\n",
    "            if this_day_points == 0:\n",
    "                this_day_points = last_point_total\n",
    "            else: \n",
    "                last_point_total = this_day_points\n",
    "            standings.append([season, date, team, division, conference, this_day_points])"
   ]
  },
  {
   "cell_type": "code",
   "execution_count": 96,
   "id": "8d271e37",
   "metadata": {},
   "outputs": [],
   "source": [
    "df_sta = pd.DataFrame(standings)\n",
    "df_sta.columns = ['season', 'date', 'team', 'division', 'conference', 'points']"
   ]
  },
  {
   "cell_type": "code",
   "execution_count": 99,
   "id": "165e6dee",
   "metadata": {},
   "outputs": [],
   "source": [
    "df_sta.to_csv(f'linescore/cumulative_points.csv', index=False)"
   ]
  },
  {
   "cell_type": "code",
   "execution_count": 100,
   "id": "065f1dcb",
   "metadata": {},
   "outputs": [
    {
     "data": {
      "text/html": [
       "<div>\n",
       "<style scoped>\n",
       "    .dataframe tbody tr th:only-of-type {\n",
       "        vertical-align: middle;\n",
       "    }\n",
       "\n",
       "    .dataframe tbody tr th {\n",
       "        vertical-align: top;\n",
       "    }\n",
       "\n",
       "    .dataframe thead th {\n",
       "        text-align: right;\n",
       "    }\n",
       "</style>\n",
       "<table border=\"1\" class=\"dataframe\">\n",
       "  <thead>\n",
       "    <tr style=\"text-align: right;\">\n",
       "      <th></th>\n",
       "      <th>season</th>\n",
       "      <th>date</th>\n",
       "      <th>team</th>\n",
       "      <th>division</th>\n",
       "      <th>conference</th>\n",
       "      <th>points</th>\n",
       "    </tr>\n",
       "  </thead>\n",
       "  <tbody>\n",
       "    <tr>\n",
       "      <th>0</th>\n",
       "      <td>2011-12</td>\n",
       "      <td>2011-06-01</td>\n",
       "      <td>Anaheim Ducks</td>\n",
       "      <td>Pacific</td>\n",
       "      <td>Western</td>\n",
       "      <td>0</td>\n",
       "    </tr>\n",
       "    <tr>\n",
       "      <th>1</th>\n",
       "      <td>2011-12</td>\n",
       "      <td>2011-06-02</td>\n",
       "      <td>Anaheim Ducks</td>\n",
       "      <td>Pacific</td>\n",
       "      <td>Western</td>\n",
       "      <td>0</td>\n",
       "    </tr>\n",
       "    <tr>\n",
       "      <th>2</th>\n",
       "      <td>2011-12</td>\n",
       "      <td>2011-06-03</td>\n",
       "      <td>Anaheim Ducks</td>\n",
       "      <td>Pacific</td>\n",
       "      <td>Western</td>\n",
       "      <td>0</td>\n",
       "    </tr>\n",
       "    <tr>\n",
       "      <th>3</th>\n",
       "      <td>2011-12</td>\n",
       "      <td>2011-06-04</td>\n",
       "      <td>Anaheim Ducks</td>\n",
       "      <td>Pacific</td>\n",
       "      <td>Western</td>\n",
       "      <td>0</td>\n",
       "    </tr>\n",
       "    <tr>\n",
       "      <th>4</th>\n",
       "      <td>2011-12</td>\n",
       "      <td>2011-06-05</td>\n",
       "      <td>Anaheim Ducks</td>\n",
       "      <td>Pacific</td>\n",
       "      <td>Western</td>\n",
       "      <td>0</td>\n",
       "    </tr>\n",
       "    <tr>\n",
       "      <th>...</th>\n",
       "      <td>...</td>\n",
       "      <td>...</td>\n",
       "      <td>...</td>\n",
       "      <td>...</td>\n",
       "      <td>...</td>\n",
       "      <td>...</td>\n",
       "    </tr>\n",
       "    <tr>\n",
       "      <th>111046</th>\n",
       "      <td>2020-21</td>\n",
       "      <td>2021-05-27</td>\n",
       "      <td>Winnipeg Jets</td>\n",
       "      <td>Scotia North</td>\n",
       "      <td>Western</td>\n",
       "      <td>63</td>\n",
       "    </tr>\n",
       "    <tr>\n",
       "      <th>111047</th>\n",
       "      <td>2020-21</td>\n",
       "      <td>2021-05-28</td>\n",
       "      <td>Winnipeg Jets</td>\n",
       "      <td>Scotia North</td>\n",
       "      <td>Western</td>\n",
       "      <td>63</td>\n",
       "    </tr>\n",
       "    <tr>\n",
       "      <th>111048</th>\n",
       "      <td>2020-21</td>\n",
       "      <td>2021-05-29</td>\n",
       "      <td>Winnipeg Jets</td>\n",
       "      <td>Scotia North</td>\n",
       "      <td>Western</td>\n",
       "      <td>63</td>\n",
       "    </tr>\n",
       "    <tr>\n",
       "      <th>111049</th>\n",
       "      <td>2020-21</td>\n",
       "      <td>2021-05-30</td>\n",
       "      <td>Winnipeg Jets</td>\n",
       "      <td>Scotia North</td>\n",
       "      <td>Western</td>\n",
       "      <td>63</td>\n",
       "    </tr>\n",
       "    <tr>\n",
       "      <th>111050</th>\n",
       "      <td>2020-21</td>\n",
       "      <td>2021-05-31</td>\n",
       "      <td>Winnipeg Jets</td>\n",
       "      <td>Scotia North</td>\n",
       "      <td>Western</td>\n",
       "      <td>63</td>\n",
       "    </tr>\n",
       "  </tbody>\n",
       "</table>\n",
       "<p>111051 rows × 6 columns</p>\n",
       "</div>"
      ],
      "text/plain": [
       "         season       date           team      division conference  points\n",
       "0       2011-12 2011-06-01  Anaheim Ducks       Pacific    Western       0\n",
       "1       2011-12 2011-06-02  Anaheim Ducks       Pacific    Western       0\n",
       "2       2011-12 2011-06-03  Anaheim Ducks       Pacific    Western       0\n",
       "3       2011-12 2011-06-04  Anaheim Ducks       Pacific    Western       0\n",
       "4       2011-12 2011-06-05  Anaheim Ducks       Pacific    Western       0\n",
       "...         ...        ...            ...           ...        ...     ...\n",
       "111046  2020-21 2021-05-27  Winnipeg Jets  Scotia North    Western      63\n",
       "111047  2020-21 2021-05-28  Winnipeg Jets  Scotia North    Western      63\n",
       "111048  2020-21 2021-05-29  Winnipeg Jets  Scotia North    Western      63\n",
       "111049  2020-21 2021-05-30  Winnipeg Jets  Scotia North    Western      63\n",
       "111050  2020-21 2021-05-31  Winnipeg Jets  Scotia North    Western      63\n",
       "\n",
       "[111051 rows x 6 columns]"
      ]
     },
     "execution_count": 100,
     "metadata": {},
     "output_type": "execute_result"
    }
   ],
   "source": [
    "df_sta"
   ]
  },
  {
   "cell_type": "code",
   "execution_count": 101,
   "id": "69ef56bf",
   "metadata": {},
   "outputs": [
    {
     "data": {
      "text/plain": [
       "<AxesSubplot:xlabel='date'>"
      ]
     },
     "execution_count": 101,
     "metadata": {},
     "output_type": "execute_result"
    },
    {
     "data": {
      "image/png": "[encoded data removed]",
      "text/plain": [
       "<Figure size 432x288 with 1 Axes>"
      ]
     },
     "metadata": {
      "needs_background": "light"
     },
     "output_type": "display_data"
    }
   ],
   "source": [
    "df_sta[df_sta['team']=='Carolina Hurricanes'].plot('date', 'points')"
   ]
  },
  {
   "cell_type": "code",
   "execution_count": 93,
   "id": "f9bd0bd2",
   "metadata": {},
   "outputs": [
    {
     "data": {
      "text/plain": [
       "array(['Honda West', 'MassMutual East', 'Scotia North',\n",
       "       'Discover Central'], dtype=object)"
      ]
     },
     "execution_count": 93,
     "metadata": {},
     "output_type": "execute_result"
    }
   ],
   "source": [
    "df_sta['division'].unique()"
   ]
  },
  {
   "cell_type": "code",
   "execution_count": 94,
   "id": "adbae2e0",
   "metadata": {},
   "outputs": [
    {
     "data": {
      "image/png": "[encoded data removed]",
      "text/plain": [
       "<Figure size 432x288 with 1 Axes>"
      ]
     },
     "metadata": {
      "needs_background": "light"
     },
     "output_type": "display_data"
    }
   ],
   "source": [
    "for team in df_sta[df_sta['division']=='MassMutual East']['team'].unique():\n",
    "    plt.plot(df_sta[df_sta['team']==team]['date'], \n",
    "             df_sta[df_sta['team']==team]['points'], linestyle = 'solid')\n",
    "\n",
    "\n",
    "# for team in df_div['team'].unique():\n",
    "#     df_tmp = df_div[df_div['team']==team].sort_values(by='date').copy().reset_index()\n",
    "#     plt.plot(df_tmp['date'], df_tmp['cum_points'], linestyle = 'solid')\n",
    "# plt.show()"
   ]
  },
  {
   "cell_type": "markdown",
   "id": "347045bd",
   "metadata": {},
   "source": [
    "### other stuff i used previously"
   ]
  },
  {
   "cell_type": "code",
   "execution_count": 42,
   "id": "0f334e80",
   "metadata": {},
   "outputs": [],
   "source": [
    "# find cumulative points threshold for divisional playoff spot\n",
    "def division_playoff_spot(row, df):\n",
    "    season = row.season\n",
    "    date = row.date\n",
    "    division = row.division\n",
    "    cutoff = 2\n",
    "    if row.season <= '2012-13':\n",
    "        cutoff = 0\n",
    "    elif row.season == '2020-21':\n",
    "        cutoff = 3\n",
    "    try:\n",
    "        return df[(df['season']==season) &\n",
    "                    (df['date'] <= date) &\n",
    "                    (df['division']==division)] \\\n",
    "                    .sort_values(by='date', ascending=False) \\\n",
    "                    .drop_duplicates(subset = [\"team\"]) \\\n",
    "                    .sort_values(by='cum_points', ascending=False) \\\n",
    "                    .reset_index()['cum_points'][cutoff]\n",
    "    except:\n",
    "        return 0  # need this in start of season when less than 3 teams have played a game\n",
    "\n",
    "# find cumulative points threshold for conference playoff spot\n",
    "def conference_playoff_spot(row, df):\n",
    "    season = row.season\n",
    "    date = row.date\n",
    "    conference = row.conference\n",
    "    try:\n",
    "        return df[(df['season']==season) &\n",
    "                    (df['date'] <= date) &\n",
    "                    (df['conference']==conference)] \\\n",
    "                    .sort_values(by='date', ascending=False) \\\n",
    "                    .drop_duplicates(subset = [\"team\"]) \\\n",
    "                    .sort_values(by='cum_points', ascending=False) \\\n",
    "                    .reset_index()['cum_points'][7]\n",
    "    except:\n",
    "        return 0  # need this in start of season when less than 3 teams have played a game\n",
    "\n"
   ]
  },
  {
   "cell_type": "code",
   "execution_count": 7,
   "id": "05f852ea",
   "metadata": {},
   "outputs": [],
   "source": [
    "# 'learn' how many points a team is out of a divisional playoff spot on any day\n",
    "df['division_threshold'] = [division_playoff_spot(row, df) for row in df.itertuples()]\n",
    "df['points_above_division_spot'] = df['cum_points'] - df['division_threshold']\n",
    "\n",
    "# 'learn' how many points a team is out of a conference playoff spot on any day\n",
    "df['conference_threshold'] = [conference_playoff_spot(row, df) for row in df.itertuples()]\n",
    "df['points_above_conference_spot'] = df['cum_points'] - df['conference_threshold']"
   ]
  },
  {
   "cell_type": "markdown",
   "id": "563451f6",
   "metadata": {},
   "source": [
    "### Save data to csv"
   ]
  },
  {
   "cell_type": "code",
   "execution_count": 12,
   "id": "88683b27",
   "metadata": {},
   "outputs": [],
   "source": [
    "df.to_csv(f'linescore/allGames2011-2021.csv', index=False)\n"
   ]
  },
  {
   "cell_type": "markdown",
   "id": "8a0c63dd",
   "metadata": {},
   "source": [
    "### test with random team/season"
   ]
  },
  {
   "cell_type": "code",
   "execution_count": 8,
   "id": "fc2098a7",
   "metadata": {},
   "outputs": [
    {
     "data": {
      "text/html": [
       "<div>\n",
       "<style scoped>\n",
       "    .dataframe tbody tr th:only-of-type {\n",
       "        vertical-align: middle;\n",
       "    }\n",
       "\n",
       "    .dataframe tbody tr th {\n",
       "        vertical-align: top;\n",
       "    }\n",
       "\n",
       "    .dataframe thead th {\n",
       "        text-align: right;\n",
       "    }\n",
       "</style>\n",
       "<table border=\"1\" class=\"dataframe\">\n",
       "  <thead>\n",
       "    <tr style=\"text-align: right;\">\n",
       "      <th></th>\n",
       "      <th>season</th>\n",
       "      <th>date</th>\n",
       "      <th>team</th>\n",
       "      <th>points</th>\n",
       "      <th>division</th>\n",
       "      <th>conference</th>\n",
       "      <th>cum_points</th>\n",
       "      <th>possible_points</th>\n",
       "      <th>total_possible_points</th>\n",
       "      <th>points_pct</th>\n",
       "      <th>division_threshold</th>\n",
       "      <th>points_above_division_spot</th>\n",
       "      <th>conference_threshold</th>\n",
       "      <th>points_above_conference_spot</th>\n",
       "    </tr>\n",
       "  </thead>\n",
       "  <tbody>\n",
       "    <tr>\n",
       "      <th>19174</th>\n",
       "      <td>2019-20</td>\n",
       "      <td>2019-10-03</td>\n",
       "      <td>Carolina Hurricanes</td>\n",
       "      <td>2</td>\n",
       "      <td>Metropolitan</td>\n",
       "      <td>Eastern</td>\n",
       "      <td>2</td>\n",
       "      <td>2</td>\n",
       "      <td>2</td>\n",
       "      <td>1.000000</td>\n",
       "      <td>2</td>\n",
       "      <td>0</td>\n",
       "      <td>0</td>\n",
       "      <td>2</td>\n",
       "    </tr>\n",
       "    <tr>\n",
       "      <th>19175</th>\n",
       "      <td>2019-20</td>\n",
       "      <td>2019-10-05</td>\n",
       "      <td>Carolina Hurricanes</td>\n",
       "      <td>2</td>\n",
       "      <td>Metropolitan</td>\n",
       "      <td>Eastern</td>\n",
       "      <td>4</td>\n",
       "      <td>2</td>\n",
       "      <td>4</td>\n",
       "      <td>1.000000</td>\n",
       "      <td>4</td>\n",
       "      <td>0</td>\n",
       "      <td>2</td>\n",
       "      <td>2</td>\n",
       "    </tr>\n",
       "    <tr>\n",
       "      <th>19176</th>\n",
       "      <td>2019-20</td>\n",
       "      <td>2019-10-06</td>\n",
       "      <td>Carolina Hurricanes</td>\n",
       "      <td>2</td>\n",
       "      <td>Metropolitan</td>\n",
       "      <td>Eastern</td>\n",
       "      <td>6</td>\n",
       "      <td>2</td>\n",
       "      <td>6</td>\n",
       "      <td>1.000000</td>\n",
       "      <td>4</td>\n",
       "      <td>2</td>\n",
       "      <td>3</td>\n",
       "      <td>3</td>\n",
       "    </tr>\n",
       "    <tr>\n",
       "      <th>19177</th>\n",
       "      <td>2019-20</td>\n",
       "      <td>2019-10-08</td>\n",
       "      <td>Carolina Hurricanes</td>\n",
       "      <td>2</td>\n",
       "      <td>Metropolitan</td>\n",
       "      <td>Eastern</td>\n",
       "      <td>8</td>\n",
       "      <td>2</td>\n",
       "      <td>8</td>\n",
       "      <td>1.000000</td>\n",
       "      <td>4</td>\n",
       "      <td>4</td>\n",
       "      <td>3</td>\n",
       "      <td>5</td>\n",
       "    </tr>\n",
       "    <tr>\n",
       "      <th>19178</th>\n",
       "      <td>2019-20</td>\n",
       "      <td>2019-10-11</td>\n",
       "      <td>Carolina Hurricanes</td>\n",
       "      <td>2</td>\n",
       "      <td>Metropolitan</td>\n",
       "      <td>Eastern</td>\n",
       "      <td>10</td>\n",
       "      <td>2</td>\n",
       "      <td>10</td>\n",
       "      <td>1.000000</td>\n",
       "      <td>4</td>\n",
       "      <td>6</td>\n",
       "      <td>4</td>\n",
       "      <td>6</td>\n",
       "    </tr>\n",
       "    <tr>\n",
       "      <th>...</th>\n",
       "      <td>...</td>\n",
       "      <td>...</td>\n",
       "      <td>...</td>\n",
       "      <td>...</td>\n",
       "      <td>...</td>\n",
       "      <td>...</td>\n",
       "      <td>...</td>\n",
       "      <td>...</td>\n",
       "      <td>...</td>\n",
       "      <td>...</td>\n",
       "      <td>...</td>\n",
       "      <td>...</td>\n",
       "      <td>...</td>\n",
       "      <td>...</td>\n",
       "    </tr>\n",
       "    <tr>\n",
       "      <th>19237</th>\n",
       "      <td>2019-20</td>\n",
       "      <td>2020-03-01</td>\n",
       "      <td>Carolina Hurricanes</td>\n",
       "      <td>1</td>\n",
       "      <td>Metropolitan</td>\n",
       "      <td>Eastern</td>\n",
       "      <td>75</td>\n",
       "      <td>2</td>\n",
       "      <td>128</td>\n",
       "      <td>0.585938</td>\n",
       "      <td>80</td>\n",
       "      <td>-5</td>\n",
       "      <td>76</td>\n",
       "      <td>-1</td>\n",
       "    </tr>\n",
       "    <tr>\n",
       "      <th>19238</th>\n",
       "      <td>2019-20</td>\n",
       "      <td>2020-03-06</td>\n",
       "      <td>Carolina Hurricanes</td>\n",
       "      <td>0</td>\n",
       "      <td>Metropolitan</td>\n",
       "      <td>Eastern</td>\n",
       "      <td>75</td>\n",
       "      <td>2</td>\n",
       "      <td>130</td>\n",
       "      <td>0.576923</td>\n",
       "      <td>84</td>\n",
       "      <td>-9</td>\n",
       "      <td>78</td>\n",
       "      <td>-3</td>\n",
       "    </tr>\n",
       "    <tr>\n",
       "      <th>19239</th>\n",
       "      <td>2019-20</td>\n",
       "      <td>2020-03-07</td>\n",
       "      <td>Carolina Hurricanes</td>\n",
       "      <td>2</td>\n",
       "      <td>Metropolitan</td>\n",
       "      <td>Eastern</td>\n",
       "      <td>77</td>\n",
       "      <td>2</td>\n",
       "      <td>132</td>\n",
       "      <td>0.583333</td>\n",
       "      <td>84</td>\n",
       "      <td>-7</td>\n",
       "      <td>79</td>\n",
       "      <td>-2</td>\n",
       "    </tr>\n",
       "    <tr>\n",
       "      <th>19240</th>\n",
       "      <td>2019-20</td>\n",
       "      <td>2020-03-08</td>\n",
       "      <td>Carolina Hurricanes</td>\n",
       "      <td>2</td>\n",
       "      <td>Metropolitan</td>\n",
       "      <td>Eastern</td>\n",
       "      <td>79</td>\n",
       "      <td>2</td>\n",
       "      <td>134</td>\n",
       "      <td>0.589552</td>\n",
       "      <td>84</td>\n",
       "      <td>-5</td>\n",
       "      <td>79</td>\n",
       "      <td>0</td>\n",
       "    </tr>\n",
       "    <tr>\n",
       "      <th>19241</th>\n",
       "      <td>2019-20</td>\n",
       "      <td>2020-03-10</td>\n",
       "      <td>Carolina Hurricanes</td>\n",
       "      <td>2</td>\n",
       "      <td>Metropolitan</td>\n",
       "      <td>Eastern</td>\n",
       "      <td>81</td>\n",
       "      <td>2</td>\n",
       "      <td>136</td>\n",
       "      <td>0.595588</td>\n",
       "      <td>86</td>\n",
       "      <td>-5</td>\n",
       "      <td>81</td>\n",
       "      <td>0</td>\n",
       "    </tr>\n",
       "  </tbody>\n",
       "</table>\n",
       "<p>68 rows × 14 columns</p>\n",
       "</div>"
      ],
      "text/plain": [
       "        season        date                 team  points      division  \\\n",
       "19174  2019-20  2019-10-03  Carolina Hurricanes       2  Metropolitan   \n",
       "19175  2019-20  2019-10-05  Carolina Hurricanes       2  Metropolitan   \n",
       "19176  2019-20  2019-10-06  Carolina Hurricanes       2  Metropolitan   \n",
       "19177  2019-20  2019-10-08  Carolina Hurricanes       2  Metropolitan   \n",
       "19178  2019-20  2019-10-11  Carolina Hurricanes       2  Metropolitan   \n",
       "...        ...         ...                  ...     ...           ...   \n",
       "19237  2019-20  2020-03-01  Carolina Hurricanes       1  Metropolitan   \n",
       "19238  2019-20  2020-03-06  Carolina Hurricanes       0  Metropolitan   \n",
       "19239  2019-20  2020-03-07  Carolina Hurricanes       2  Metropolitan   \n",
       "19240  2019-20  2020-03-08  Carolina Hurricanes       2  Metropolitan   \n",
       "19241  2019-20  2020-03-10  Carolina Hurricanes       2  Metropolitan   \n",
       "\n",
       "      conference  cum_points  possible_points  total_possible_points  \\\n",
       "19174    Eastern           2                2                      2   \n",
       "19175    Eastern           4                2                      4   \n",
       "19176    Eastern           6                2                      6   \n",
       "19177    Eastern           8                2                      8   \n",
       "19178    Eastern          10                2                     10   \n",
       "...          ...         ...              ...                    ...   \n",
       "19237    Eastern          75                2                    128   \n",
       "19238    Eastern          75                2                    130   \n",
       "19239    Eastern          77                2                    132   \n",
       "19240    Eastern          79                2                    134   \n",
       "19241    Eastern          81                2                    136   \n",
       "\n",
       "       points_pct  division_threshold  points_above_division_spot  \\\n",
       "19174    1.000000                   2                           0   \n",
       "19175    1.000000                   4                           0   \n",
       "19176    1.000000                   4                           2   \n",
       "19177    1.000000                   4                           4   \n",
       "19178    1.000000                   4                           6   \n",
       "...           ...                 ...                         ...   \n",
       "19237    0.585938                  80                          -5   \n",
       "19238    0.576923                  84                          -9   \n",
       "19239    0.583333                  84                          -7   \n",
       "19240    0.589552                  84                          -5   \n",
       "19241    0.595588                  86                          -5   \n",
       "\n",
       "       conference_threshold  points_above_conference_spot  \n",
       "19174                     0                             2  \n",
       "19175                     2                             2  \n",
       "19176                     3                             3  \n",
       "19177                     3                             5  \n",
       "19178                     4                             6  \n",
       "...                     ...                           ...  \n",
       "19237                    76                            -1  \n",
       "19238                    78                            -3  \n",
       "19239                    79                            -2  \n",
       "19240                    79                             0  \n",
       "19241                    81                             0  \n",
       "\n",
       "[68 rows x 14 columns]"
      ]
     },
     "execution_count": 8,
     "metadata": {},
     "output_type": "execute_result"
    }
   ],
   "source": [
    "df_team = df[(df['season']=='2019-20') & (df['team']=='Carolina Hurricanes')]\n",
    "df_team"
   ]
  },
  {
   "cell_type": "code",
   "execution_count": 9,
   "id": "1337ba74",
   "metadata": {},
   "outputs": [
    {
     "data": {
      "text/plain": [
       "[<matplotlib.lines.Line2D at 0x7fdfd4e99280>]"
      ]
     },
     "metadata": {},
     "output_type": "display_data"
    },
    {
     "data": {
      "text/plain": [
       "[<matplotlib.lines.Line2D at 0x7fdfd53caf10>]"
      ]
     },
     "metadata": {},
     "output_type": "display_data"
    },
    {
     "data": {
      "text/plain": [
       "[<matplotlib.lines.Line2D at 0x7fdfd55052e0>]"
      ]
     },
     "metadata": {},
     "output_type": "display_data"
    },
    {
     "data": {
      "image/png": "[encoded data removed]",
      "text/plain": [
       "<Figure size 432x288 with 1 Axes>"
      ]
     },
     "metadata": {
      "needs_background": "light"
     },
     "output_type": "display_data"
    }
   ],
   "source": [
    "display(plt.plot(df_team['date'], df_team['points_above_division_spot'], linestyle = 'solid', color='blue'))\n",
    "display(plt.plot(df_team['date'], df_team['points_above_conference_spot'], linestyle = 'solid', color='red'))\n",
    "display(plt.plot(df_team['date'], [0] * len(df_team), linestyle = 'solid', color='black'))\n"
   ]
  },
  {
   "cell_type": "code",
   "execution_count": 10,
   "id": "981b58c8",
   "metadata": {},
   "outputs": [
    {
     "data": {
      "text/plain": [
       "[<matplotlib.lines.Line2D at 0x7fdfd55b2940>]"
      ]
     },
     "metadata": {},
     "output_type": "display_data"
    },
    {
     "data": {
      "image/png": "[encoded data removed]",
      "text/plain": [
       "<Figure size 432x288 with 1 Axes>"
      ]
     },
     "metadata": {
      "needs_background": "light"
     },
     "output_type": "display_data"
    }
   ],
   "source": [
    "display(plt.plot(df_team['date'], df_team['points_pct'], linestyle = 'solid'))"
   ]
  },
  {
   "cell_type": "code",
   "execution_count": 11,
   "id": "abc550e6",
   "metadata": {},
   "outputs": [
    {
     "data": {
      "text/plain": [
       "[<matplotlib.lines.Line2D at 0x7fdfd55249d0>]"
      ]
     },
     "metadata": {},
     "output_type": "display_data"
    },
    {
     "data": {
      "image/png": "[encoded data removed]",
      "text/plain": [
       "<Figure size 432x288 with 1 Axes>"
      ]
     },
     "metadata": {
      "needs_background": "light"
     },
     "output_type": "display_data"
    }
   ],
   "source": [
    "display(plt.plot(df_team['date'], df_team['cum_points'], linestyle = 'solid'))"
   ]
  },
  {
   "cell_type": "code",
   "execution_count": null,
   "id": "94c0a812",
   "metadata": {},
   "outputs": [],
   "source": []
  },
  {
   "cell_type": "code",
   "execution_count": null,
   "id": "aa36b24c",
   "metadata": {},
   "outputs": [],
   "source": []
  },
  {
   "cell_type": "code",
   "execution_count": 131,
   "id": "79d4dd47",
   "metadata": {},
   "outputs": [
    {
     "data": {
      "image/png": "[encoded data removed]",
      "text/plain": [
       "<Figure size 432x288 with 1 Axes>"
      ]
     },
     "metadata": {
      "needs_background": "light"
     },
     "output_type": "display_data"
    }
   ],
   "source": [
    "for team in df_div['team'].unique():\n",
    "    df_tmp = df_div[df_div['team']==team].sort_values(by='date').copy().reset_index()\n",
    "    plt.plot(df_tmp['date'], df_tmp['cum_points'], linestyle = 'solid')\n",
    "plt.show()"
   ]
  },
  {
   "cell_type": "code",
   "execution_count": 151,
   "id": "91e0efa0",
   "metadata": {},
   "outputs": [
    {
     "data": {
      "text/plain": [
       "[<matplotlib.lines.Line2D at 0x7fb6a39be460>]"
      ]
     },
     "metadata": {},
     "output_type": "display_data"
    },
    {
     "data": {
      "text/plain": [
       "[<matplotlib.lines.Line2D at 0x7fb6a39bec70>]"
      ]
     },
     "metadata": {},
     "output_type": "display_data"
    },
    {
     "data": {
      "text/plain": [
       "[<matplotlib.lines.Line2D at 0x7fb6a2ff03d0>]"
      ]
     },
     "metadata": {},
     "output_type": "display_data"
    },
    {
     "data": {
      "text/plain": [
       "[<matplotlib.lines.Line2D at 0x7fb6a2ff09d0>]"
      ]
     },
     "metadata": {},
     "output_type": "display_data"
    },
    {
     "data": {
      "image/png": "[encoded data removed]",
      "text/plain": [
       "<Figure size 432x288 with 1 Axes>"
      ]
     },
     "metadata": {
      "needs_background": "light"
     },
     "output_type": "display_data"
    }
   ],
   "source": [
    "df_tmp = df[df['team']=='Tampa Bay Lightning'].sort_values(by='date')\n",
    "df_tmp = df_tmp.merge(df[df['team']=='Buffalo Sabres'].sort_values(by='date'), how='left', on='date')\n",
    "display(plt.plot(df_tmp['date'], df_tmp['cum_points_x'], linestyle = 'solid', color='blue'))\n",
    "display(plt.plot(df_tmp['date'], df_tmp['cum_points_y'], linestyle = 'solid', color='yellow'))\n",
    "\n",
    "display(plt.plot(df_tmp['date'], df_tmp['division_threshold_x'], linestyle = 'solid', color='black'))\n",
    "display(plt.plot(df_tmp['date'], df_tmp['conference_threshold_x'], linestyle = 'solid', color='purple'))\n",
    "\n",
    "\n",
    "\n",
    "\n"
   ]
  },
  {
   "cell_type": "code",
   "execution_count": 148,
   "id": "2e4276c3",
   "metadata": {},
   "outputs": [
    {
     "data": {
      "text/html": [
       "<div>\n",
       "<style scoped>\n",
       "    .dataframe tbody tr th:only-of-type {\n",
       "        vertical-align: middle;\n",
       "    }\n",
       "\n",
       "    .dataframe tbody tr th {\n",
       "        vertical-align: top;\n",
       "    }\n",
       "\n",
       "    .dataframe thead th {\n",
       "        text-align: right;\n",
       "    }\n",
       "</style>\n",
       "<table border=\"1\" class=\"dataframe\">\n",
       "  <thead>\n",
       "    <tr style=\"text-align: right;\">\n",
       "      <th></th>\n",
       "      <th>season_x</th>\n",
       "      <th>date</th>\n",
       "      <th>team_x</th>\n",
       "      <th>points_x</th>\n",
       "      <th>division_x</th>\n",
       "      <th>conference_x</th>\n",
       "      <th>cum_points_x</th>\n",
       "      <th>possible_points_x</th>\n",
       "      <th>total_possible_points_x</th>\n",
       "      <th>points_pct_x</th>\n",
       "      <th>...</th>\n",
       "      <th>division_y</th>\n",
       "      <th>conference_y</th>\n",
       "      <th>cum_points_y</th>\n",
       "      <th>possible_points_y</th>\n",
       "      <th>total_possible_points_y</th>\n",
       "      <th>points_pct_y</th>\n",
       "      <th>division_threshold_y</th>\n",
       "      <th>points_above_division_spot_y</th>\n",
       "      <th>conference_threshold_y</th>\n",
       "      <th>points_above_conference_spot_y</th>\n",
       "    </tr>\n",
       "  </thead>\n",
       "  <tbody>\n",
       "    <tr>\n",
       "      <th>0</th>\n",
       "      <td>2018-19</td>\n",
       "      <td>2018-10-06</td>\n",
       "      <td>Tampa Bay Lightning</td>\n",
       "      <td>2</td>\n",
       "      <td>Atlantic</td>\n",
       "      <td>Eastern</td>\n",
       "      <td>2</td>\n",
       "      <td>2</td>\n",
       "      <td>2</td>\n",
       "      <td>1.000000</td>\n",
       "      <td>...</td>\n",
       "      <td>NaN</td>\n",
       "      <td>NaN</td>\n",
       "      <td>NaN</td>\n",
       "      <td>NaN</td>\n",
       "      <td>NaN</td>\n",
       "      <td>NaN</td>\n",
       "      <td>NaN</td>\n",
       "      <td>NaN</td>\n",
       "      <td>NaN</td>\n",
       "      <td>NaN</td>\n",
       "    </tr>\n",
       "    <tr>\n",
       "      <th>1</th>\n",
       "      <td>2018-19</td>\n",
       "      <td>2018-10-11</td>\n",
       "      <td>Tampa Bay Lightning</td>\n",
       "      <td>0</td>\n",
       "      <td>Atlantic</td>\n",
       "      <td>Eastern</td>\n",
       "      <td>2</td>\n",
       "      <td>2</td>\n",
       "      <td>4</td>\n",
       "      <td>0.500000</td>\n",
       "      <td>...</td>\n",
       "      <td>Atlantic</td>\n",
       "      <td>Eastern</td>\n",
       "      <td>6.0</td>\n",
       "      <td>2.0</td>\n",
       "      <td>8.0</td>\n",
       "      <td>0.750000</td>\n",
       "      <td>4.0</td>\n",
       "      <td>2.0</td>\n",
       "      <td>4.0</td>\n",
       "      <td>2.0</td>\n",
       "    </tr>\n",
       "    <tr>\n",
       "      <th>2</th>\n",
       "      <td>2018-19</td>\n",
       "      <td>2018-10-13</td>\n",
       "      <td>Tampa Bay Lightning</td>\n",
       "      <td>2</td>\n",
       "      <td>Atlantic</td>\n",
       "      <td>Eastern</td>\n",
       "      <td>4</td>\n",
       "      <td>2</td>\n",
       "      <td>6</td>\n",
       "      <td>0.666667</td>\n",
       "      <td>...</td>\n",
       "      <td>Atlantic</td>\n",
       "      <td>Eastern</td>\n",
       "      <td>8.0</td>\n",
       "      <td>2.0</td>\n",
       "      <td>10.0</td>\n",
       "      <td>0.800000</td>\n",
       "      <td>5.0</td>\n",
       "      <td>3.0</td>\n",
       "      <td>5.0</td>\n",
       "      <td>3.0</td>\n",
       "    </tr>\n",
       "    <tr>\n",
       "      <th>3</th>\n",
       "      <td>2018-19</td>\n",
       "      <td>2018-10-16</td>\n",
       "      <td>Tampa Bay Lightning</td>\n",
       "      <td>2</td>\n",
       "      <td>Atlantic</td>\n",
       "      <td>Eastern</td>\n",
       "      <td>6</td>\n",
       "      <td>2</td>\n",
       "      <td>8</td>\n",
       "      <td>0.750000</td>\n",
       "      <td>...</td>\n",
       "      <td>NaN</td>\n",
       "      <td>NaN</td>\n",
       "      <td>NaN</td>\n",
       "      <td>NaN</td>\n",
       "      <td>NaN</td>\n",
       "      <td>NaN</td>\n",
       "      <td>NaN</td>\n",
       "      <td>NaN</td>\n",
       "      <td>NaN</td>\n",
       "      <td>NaN</td>\n",
       "    </tr>\n",
       "    <tr>\n",
       "      <th>4</th>\n",
       "      <td>2018-19</td>\n",
       "      <td>2018-10-18</td>\n",
       "      <td>Tampa Bay Lightning</td>\n",
       "      <td>2</td>\n",
       "      <td>Atlantic</td>\n",
       "      <td>Eastern</td>\n",
       "      <td>8</td>\n",
       "      <td>2</td>\n",
       "      <td>10</td>\n",
       "      <td>0.800000</td>\n",
       "      <td>...</td>\n",
       "      <td>Atlantic</td>\n",
       "      <td>Eastern</td>\n",
       "      <td>8.0</td>\n",
       "      <td>2.0</td>\n",
       "      <td>12.0</td>\n",
       "      <td>0.666667</td>\n",
       "      <td>8.0</td>\n",
       "      <td>0.0</td>\n",
       "      <td>8.0</td>\n",
       "      <td>0.0</td>\n",
       "    </tr>\n",
       "    <tr>\n",
       "      <th>...</th>\n",
       "      <td>...</td>\n",
       "      <td>...</td>\n",
       "      <td>...</td>\n",
       "      <td>...</td>\n",
       "      <td>...</td>\n",
       "      <td>...</td>\n",
       "      <td>...</td>\n",
       "      <td>...</td>\n",
       "      <td>...</td>\n",
       "      <td>...</td>\n",
       "      <td>...</td>\n",
       "      <td>...</td>\n",
       "      <td>...</td>\n",
       "      <td>...</td>\n",
       "      <td>...</td>\n",
       "      <td>...</td>\n",
       "      <td>...</td>\n",
       "      <td>...</td>\n",
       "      <td>...</td>\n",
       "      <td>...</td>\n",
       "      <td>...</td>\n",
       "    </tr>\n",
       "    <tr>\n",
       "      <th>79</th>\n",
       "      <td>2018-19</td>\n",
       "      <td>2019-03-30</td>\n",
       "      <td>Tampa Bay Lightning</td>\n",
       "      <td>0</td>\n",
       "      <td>Atlantic</td>\n",
       "      <td>Eastern</td>\n",
       "      <td>122</td>\n",
       "      <td>2</td>\n",
       "      <td>156</td>\n",
       "      <td>0.782051</td>\n",
       "      <td>...</td>\n",
       "      <td>Atlantic</td>\n",
       "      <td>Eastern</td>\n",
       "      <td>103.0</td>\n",
       "      <td>2.0</td>\n",
       "      <td>156.0</td>\n",
       "      <td>0.660256</td>\n",
       "      <td>97.0</td>\n",
       "      <td>6.0</td>\n",
       "      <td>92.0</td>\n",
       "      <td>11.0</td>\n",
       "    </tr>\n",
       "    <tr>\n",
       "      <th>80</th>\n",
       "      <td>2018-19</td>\n",
       "      <td>2019-04-01</td>\n",
       "      <td>Tampa Bay Lightning</td>\n",
       "      <td>2</td>\n",
       "      <td>Atlantic</td>\n",
       "      <td>Eastern</td>\n",
       "      <td>124</td>\n",
       "      <td>2</td>\n",
       "      <td>158</td>\n",
       "      <td>0.784810</td>\n",
       "      <td>...</td>\n",
       "      <td>NaN</td>\n",
       "      <td>NaN</td>\n",
       "      <td>NaN</td>\n",
       "      <td>NaN</td>\n",
       "      <td>NaN</td>\n",
       "      <td>NaN</td>\n",
       "      <td>NaN</td>\n",
       "      <td>NaN</td>\n",
       "      <td>NaN</td>\n",
       "      <td>NaN</td>\n",
       "    </tr>\n",
       "    <tr>\n",
       "      <th>81</th>\n",
       "      <td>2018-19</td>\n",
       "      <td>2019-04-02</td>\n",
       "      <td>Tampa Bay Lightning</td>\n",
       "      <td>0</td>\n",
       "      <td>Atlantic</td>\n",
       "      <td>Eastern</td>\n",
       "      <td>124</td>\n",
       "      <td>2</td>\n",
       "      <td>160</td>\n",
       "      <td>0.775000</td>\n",
       "      <td>...</td>\n",
       "      <td>Atlantic</td>\n",
       "      <td>Eastern</td>\n",
       "      <td>105.0</td>\n",
       "      <td>2.0</td>\n",
       "      <td>160.0</td>\n",
       "      <td>0.656250</td>\n",
       "      <td>99.0</td>\n",
       "      <td>6.0</td>\n",
       "      <td>94.0</td>\n",
       "      <td>11.0</td>\n",
       "    </tr>\n",
       "    <tr>\n",
       "      <th>82</th>\n",
       "      <td>2018-19</td>\n",
       "      <td>2019-04-04</td>\n",
       "      <td>Tampa Bay Lightning</td>\n",
       "      <td>2</td>\n",
       "      <td>Atlantic</td>\n",
       "      <td>Eastern</td>\n",
       "      <td>126</td>\n",
       "      <td>2</td>\n",
       "      <td>162</td>\n",
       "      <td>0.777778</td>\n",
       "      <td>...</td>\n",
       "      <td>NaN</td>\n",
       "      <td>NaN</td>\n",
       "      <td>NaN</td>\n",
       "      <td>NaN</td>\n",
       "      <td>NaN</td>\n",
       "      <td>NaN</td>\n",
       "      <td>NaN</td>\n",
       "      <td>NaN</td>\n",
       "      <td>NaN</td>\n",
       "      <td>NaN</td>\n",
       "    </tr>\n",
       "    <tr>\n",
       "      <th>83</th>\n",
       "      <td>2018-19</td>\n",
       "      <td>2019-04-06</td>\n",
       "      <td>Tampa Bay Lightning</td>\n",
       "      <td>2</td>\n",
       "      <td>Atlantic</td>\n",
       "      <td>Eastern</td>\n",
       "      <td>128</td>\n",
       "      <td>2</td>\n",
       "      <td>164</td>\n",
       "      <td>0.780488</td>\n",
       "      <td>...</td>\n",
       "      <td>Atlantic</td>\n",
       "      <td>Eastern</td>\n",
       "      <td>107.0</td>\n",
       "      <td>2.0</td>\n",
       "      <td>164.0</td>\n",
       "      <td>0.652439</td>\n",
       "      <td>100.0</td>\n",
       "      <td>7.0</td>\n",
       "      <td>98.0</td>\n",
       "      <td>9.0</td>\n",
       "    </tr>\n",
       "  </tbody>\n",
       "</table>\n",
       "<p>84 rows × 27 columns</p>\n",
       "</div>"
      ],
      "text/plain": [
       "   season_x        date               team_x  points_x division_x  \\\n",
       "0   2018-19  2018-10-06  Tampa Bay Lightning         2   Atlantic   \n",
       "1   2018-19  2018-10-11  Tampa Bay Lightning         0   Atlantic   \n",
       "2   2018-19  2018-10-13  Tampa Bay Lightning         2   Atlantic   \n",
       "3   2018-19  2018-10-16  Tampa Bay Lightning         2   Atlantic   \n",
       "4   2018-19  2018-10-18  Tampa Bay Lightning         2   Atlantic   \n",
       "..      ...         ...                  ...       ...        ...   \n",
       "79  2018-19  2019-03-30  Tampa Bay Lightning         0   Atlantic   \n",
       "80  2018-19  2019-04-01  Tampa Bay Lightning         2   Atlantic   \n",
       "81  2018-19  2019-04-02  Tampa Bay Lightning         0   Atlantic   \n",
       "82  2018-19  2019-04-04  Tampa Bay Lightning         2   Atlantic   \n",
       "83  2018-19  2019-04-06  Tampa Bay Lightning         2   Atlantic   \n",
       "\n",
       "   conference_x  cum_points_x  possible_points_x  total_possible_points_x  \\\n",
       "0       Eastern             2                  2                        2   \n",
       "1       Eastern             2                  2                        4   \n",
       "2       Eastern             4                  2                        6   \n",
       "3       Eastern             6                  2                        8   \n",
       "4       Eastern             8                  2                       10   \n",
       "..          ...           ...                ...                      ...   \n",
       "79      Eastern           122                  2                      156   \n",
       "80      Eastern           124                  2                      158   \n",
       "81      Eastern           124                  2                      160   \n",
       "82      Eastern           126                  2                      162   \n",
       "83      Eastern           128                  2                      164   \n",
       "\n",
       "    points_pct_x  ...  division_y  conference_y  cum_points_y  \\\n",
       "0       1.000000  ...         NaN           NaN           NaN   \n",
       "1       0.500000  ...    Atlantic       Eastern           6.0   \n",
       "2       0.666667  ...    Atlantic       Eastern           8.0   \n",
       "3       0.750000  ...         NaN           NaN           NaN   \n",
       "4       0.800000  ...    Atlantic       Eastern           8.0   \n",
       "..           ...  ...         ...           ...           ...   \n",
       "79      0.782051  ...    Atlantic       Eastern         103.0   \n",
       "80      0.784810  ...         NaN           NaN           NaN   \n",
       "81      0.775000  ...    Atlantic       Eastern         105.0   \n",
       "82      0.777778  ...         NaN           NaN           NaN   \n",
       "83      0.780488  ...    Atlantic       Eastern         107.0   \n",
       "\n",
       "    possible_points_y total_possible_points_y points_pct_y  \\\n",
       "0                 NaN                     NaN          NaN   \n",
       "1                 2.0                     8.0     0.750000   \n",
       "2                 2.0                    10.0     0.800000   \n",
       "3                 NaN                     NaN          NaN   \n",
       "4                 2.0                    12.0     0.666667   \n",
       "..                ...                     ...          ...   \n",
       "79                2.0                   156.0     0.660256   \n",
       "80                NaN                     NaN          NaN   \n",
       "81                2.0                   160.0     0.656250   \n",
       "82                NaN                     NaN          NaN   \n",
       "83                2.0                   164.0     0.652439   \n",
       "\n",
       "    division_threshold_y points_above_division_spot_y conference_threshold_y  \\\n",
       "0                    NaN                          NaN                    NaN   \n",
       "1                    4.0                          2.0                    4.0   \n",
       "2                    5.0                          3.0                    5.0   \n",
       "3                    NaN                          NaN                    NaN   \n",
       "4                    8.0                          0.0                    8.0   \n",
       "..                   ...                          ...                    ...   \n",
       "79                  97.0                          6.0                   92.0   \n",
       "80                   NaN                          NaN                    NaN   \n",
       "81                  99.0                          6.0                   94.0   \n",
       "82                   NaN                          NaN                    NaN   \n",
       "83                 100.0                          7.0                   98.0   \n",
       "\n",
       "    points_above_conference_spot_y  \n",
       "0                              NaN  \n",
       "1                              2.0  \n",
       "2                              3.0  \n",
       "3                              NaN  \n",
       "4                              0.0  \n",
       "..                             ...  \n",
       "79                            11.0  \n",
       "80                             NaN  \n",
       "81                            11.0  \n",
       "82                             NaN  \n",
       "83                             9.0  \n",
       "\n",
       "[84 rows x 27 columns]"
      ]
     },
     "execution_count": 148,
     "metadata": {},
     "output_type": "execute_result"
    }
   ],
   "source": [
    "df_tmp.merge(df[df['team']=='Boston Bruins'].sort_values(by='date'), how='left', on='date')\n"
   ]
  },
  {
   "cell_type": "code",
   "execution_count": null,
   "id": "145361b5",
   "metadata": {},
   "outputs": [],
   "source": []
  },
  {
   "cell_type": "code",
   "execution_count": 14,
   "id": "d0b10b82",
   "metadata": {},
   "outputs": [],
   "source": [
    "df2 = pd.read_csv('linescore/allGames2010-2021.csv', index_col=None, header=0)"
   ]
  },
  {
   "cell_type": "code",
   "execution_count": 20,
   "id": "14f6c2a3",
   "metadata": {},
   "outputs": [
    {
     "name": "stdout",
     "output_type": "stream",
     "text": [
      "Pacific\n",
      "Pacific\n",
      "Pacific\n",
      "Pacific\n",
      "Pacific\n",
      "Pacific\n",
      "Pacific\n",
      "Pacific\n",
      "Pacific\n",
      "Pacific\n"
     ]
    }
   ],
   "source": [
    "count = 0\n",
    "for row in df.itertuples():\n",
    "    while count < 10:\n",
    "        print(row.division)\n",
    "        count += 1\n",
    "    "
   ]
  },
  {
   "cell_type": "code",
   "execution_count": null,
   "id": "b379618f",
   "metadata": {},
   "outputs": [],
   "source": [
    "\n",
    "\n",
    "\n",
    "\n",
    "\n",
    "\n",
    "\n",
    "\n",
    "\n",
    "\n",
    "\n",
    "\n",
    "\n",
    "\n",
    "\n",
    "\n",
    "\n",
    "\n",
    "\n",
    "\n",
    "\n",
    "\n",
    "\n",
    "\n",
    "\n",
    "\n",
    "\n",
    "\n",
    "\n",
    "\n",
    "\n",
    "\n",
    "\n",
    "\n",
    "\n",
    "\n"
   ]
  }
 ],
 "metadata": {
  "kernelspec": {
   "display_name": "Python 3 (ipykernel)",
   "language": "python",
   "name": "python3"
  },
  "language_info": {
   "codemirror_mode": {
    "name": "ipython",
    "version": 3
   },
   "file_extension": ".py",
   "mimetype": "text/x-python",
   "name": "python",
   "nbconvert_exporter": "python",
   "pygments_lexer": "ipython3",
   "version": "3.8.1"
  }
 },
 "nbformat": 4,
 "nbformat_minor": 5
}
