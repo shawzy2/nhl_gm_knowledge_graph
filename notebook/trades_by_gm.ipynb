{
 "cells": [
  {
   "cell_type": "code",
   "execution_count": 17,
   "id": "d327477d",
   "metadata": {},
   "outputs": [],
   "source": [
    "import os\n",
    "import json\n",
    "import pandas as pd\n",
    "import datetime\n",
    "import pprint"
   ]
  },
  {
   "cell_type": "markdown",
   "id": "287b475d",
   "metadata": {},
   "source": [
    "# Merge Datasets\n",
    "We want to merge 2 datasets, gm_history.csv and trades.json, to get a list of trades between GMs\n",
    "\n",
    "To do this, we will loop through all trades extracted in trades.json, and append the GMs for each team at the date the trade happened.\n",
    "\n",
    "#### 1. Read in datasets"
   ]
  },
  {
   "cell_type": "code",
   "execution_count": 59,
   "id": "09a5cc22",
   "metadata": {},
   "outputs": [],
   "source": [
    "path = os.getcwd()\n",
    "path = os.path.abspath(os.path.join(path, os.pardir, 'data/trades.json'))\n",
    "with open(path) as f:\n",
    "    trades = json.load(f)\n",
    "    \n",
    "path = os.getcwd()\n",
    "path = os.path.abspath(os.path.join(path, os.pardir, 'data/gm_history.csv'))\n",
    "with open(path) as f:\n",
    "    df_gm_hist = pd.read_csv(f)"
   ]
  },
  {
   "cell_type": "markdown",
   "id": "cbc12495",
   "metadata": {},
   "source": [
    "clean up trades dataset, replace 'Colorado Avalanch' with 'Colorado Avalanche'"
   ]
  },
  {
   "cell_type": "code",
   "execution_count": 60,
   "id": "9d45ffbf",
   "metadata": {},
   "outputs": [
    {
     "name": "stdout",
     "output_type": "stream",
     "text": [
      "total errors fixed: 119\n",
      "total trades: 2210\n"
     ]
    }
   ],
   "source": [
    "count = 0\n",
    "errors = 0\n",
    "for year in trades:\n",
    "    count += len(trades[year])\n",
    "    for trade in trades[year]:\n",
    "        if trade['team1'] == 'Colorado Avalanch':\n",
    "            trade['team1'] = 'Colorado Avalanche'\n",
    "            errors += 1\n",
    "        if trade['team2'] == 'Colorado Avalanch':\n",
    "            trade['team2'] = 'Colorado Avalanche'\n",
    "            errors += 1\n",
    "print('total errors fixed: ' + str(errors))\n",
    "print('total trades: ' + str(count))"
   ]
  },
  {
   "cell_type": "markdown",
   "id": "34b69fb8",
   "metadata": {},
   "source": [
    "clean up df_gm_hist to recognize date types"
   ]
  },
  {
   "cell_type": "code",
   "execution_count": 62,
   "id": "5d4d1827",
   "metadata": {},
   "outputs": [],
   "source": [
    "df = df_gm_hist[['team', 'start_date', 'name']]\n",
    "df = df.apply(lambda x: x.str.strip() if x.dtype == \"object\" else x)\n",
    "df['start_date'] = pd.to_datetime(df['start_date'], format=\"%B %d, %Y\", errors='coerce')"
   ]
  },
  {
   "cell_type": "code",
   "execution_count": 63,
   "id": "f1c480c9",
   "metadata": {
    "scrolled": false
   },
   "outputs": [],
   "source": [
    "# pd.set_option(\"display.max_rows\", None, \"display.max_columns\", None)\n",
    "# df"
   ]
  },
  {
   "cell_type": "markdown",
   "id": "c727d52d",
   "metadata": {},
   "source": [
    "#### 2. Merge dataset (create new dataset where for each trade, team data is replaced by team GMs)"
   ]
  },
  {
   "cell_type": "code",
   "execution_count": 69,
   "id": "9f15dbea",
   "metadata": {},
   "outputs": [],
   "source": [
    "for year in trades:\n",
    "    for trade in trades[year]:\n",
    "        date = datetime.datetime.strptime(trade['date'], '%d%b%Y')\n",
    "        try:\n",
    "            gm_1 = df[ (df['team']==trade['team1']) & (df['start_date'] < date) ].iloc[-1]['name']\n",
    "            gm_2 = df[ (df['team']==trade['team2']) & (df['start_date'] < date) ].iloc[-1]['name']\n",
    "            trade['team1_gm'] = gm_1\n",
    "            trade['team2_gm'] = gm_2\n",
    "        except Exception:\n",
    "            pprint.pprint(trade)\n",
    "\n",
    "    #     print(date)\n",
    "    #     print(trade['team1'] + ': ' + gm_1)\n",
    "    #     print(trade['team2'] + ': ' + gm_2)\n",
    "    #     print('\\n\\n')\n",
    "    \n",
    "# save to json file in data directory\n",
    "path = os.getcwd()\n",
    "path = os.path.abspath(os.path.join(path, os.pardir, 'data/trades_and_gms.json'))\n",
    "with open(path, 'w') as f:\n",
    "        json.dump(trades, f, indent=2)"
   ]
  },
  {
   "cell_type": "code",
   "execution_count": 70,
   "id": "9e092d17",
   "metadata": {},
   "outputs": [],
   "source": [
    "# for trade in trades['2014-15']:\n",
    "#     print(trade['date'])\n",
    "#     print(trade['team1_gm'])\n",
    "#     print(trade['team2_gm'])\n",
    "#     print()"
   ]
  },
  {
   "cell_type": "code",
   "execution_count": null,
   "id": "12fc8019",
   "metadata": {},
   "outputs": [],
   "source": []
  }
 ],
 "metadata": {
  "kernelspec": {
   "display_name": "Python 3 (ipykernel)",
   "language": "python",
   "name": "python3"
  },
  "language_info": {
   "codemirror_mode": {
    "name": "ipython",
    "version": 3
   },
   "file_extension": ".py",
   "mimetype": "text/x-python",
   "name": "python",
   "nbconvert_exporter": "python",
   "pygments_lexer": "ipython3",
   "version": "3.9.5"
  }
 },
 "nbformat": 4,
 "nbformat_minor": 5
}
