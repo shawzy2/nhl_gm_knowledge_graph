{
 "cells": [
  {
   "cell_type": "code",
   "execution_count": 1,
   "id": "d327477d",
   "metadata": {},
   "outputs": [],
   "source": [
    "import os\n",
    "import json\n",
    "import pandas as pd\n",
    "import datetime\n",
    "import pprint"
   ]
  },
  {
   "cell_type": "markdown",
   "id": "287b475d",
   "metadata": {},
   "source": [
    "# Merge Datasets\n",
    "We want to merge 2 datasets, gm_history.csv and trades.json, to get a list of trades between GMs\n",
    "\n",
    "To do this, we will loop through all trades extracted in trades.json, and append the GMs for each team at the date the trade happened.\n",
    "\n",
    "#### 1. Read in datasets"
   ]
  },
  {
   "cell_type": "code",
   "execution_count": 2,
   "id": "09a5cc22",
   "metadata": {},
   "outputs": [],
   "source": [
    "path = os.getcwd()\n",
    "path = os.path.abspath(os.path.join(path, os.pardir, 'data/trades.json'))\n",
    "with open(path) as f:\n",
    "    trades = json.load(f)\n",
    "    \n",
    "path = os.getcwd()\n",
    "path = os.path.abspath(os.path.join(path, os.pardir, 'data/gm_history.csv'))\n",
    "with open(path) as f:\n",
    "    df_gm_hist = pd.read_csv(f)"
   ]
  },
  {
   "cell_type": "markdown",
   "id": "cbc12495",
   "metadata": {},
   "source": [
    "clean up trades dataset, replace 'Colorado Avalanch' with 'Colorado Avalanche'"
   ]
  },
  {
   "cell_type": "code",
   "execution_count": 3,
   "id": "9d45ffbf",
   "metadata": {},
   "outputs": [
    {
     "name": "stdout",
     "output_type": "stream",
     "text": [
      "total errors fixed: 119\n",
      "total trades: 2210\n"
     ]
    }
   ],
   "source": [
    "count = 0\n",
    "errors = 0\n",
    "for year in trades:\n",
    "    count += len(trades[year])\n",
    "    for trade in trades[year]:\n",
    "        if trade['team1'] == 'Colorado Avalanch':\n",
    "            trade['team1'] = 'Colorado Avalanche'\n",
    "            errors += 1\n",
    "        if trade['team2'] == 'Colorado Avalanch':\n",
    "            trade['team2'] = 'Colorado Avalanche'\n",
    "            errors += 1\n",
    "print('total errors fixed: ' + str(errors))\n",
    "print('total trades: ' + str(count))"
   ]
  },
  {
   "cell_type": "markdown",
   "id": "34b69fb8",
   "metadata": {},
   "source": [
    "clean up df_gm_hist to recognize date types"
   ]
  },
  {
   "cell_type": "code",
   "execution_count": 4,
   "id": "5d4d1827",
   "metadata": {},
   "outputs": [],
   "source": [
    "df = df_gm_hist[['team', 'start_date', 'name']]\n",
    "df = df.apply(lambda x: x.str.strip() if x.dtype == \"object\" else x)\n",
    "df['start_date'] = pd.to_datetime(df['start_date'], format=\"%B %d, %Y\", errors='coerce')"
   ]
  },
  {
   "cell_type": "code",
   "execution_count": 5,
   "id": "f1c480c9",
   "metadata": {
    "scrolled": false
   },
   "outputs": [],
   "source": [
    "# pd.set_option(\"display.max_rows\", None, \"display.max_columns\", None)\n",
    "# df"
   ]
  },
  {
   "cell_type": "markdown",
   "id": "c727d52d",
   "metadata": {},
   "source": [
    "#### 2. Merge dataset (create new dataset where for each trade, team data is replaced by team GMs)"
   ]
  },
  {
   "cell_type": "code",
   "execution_count": 6,
   "id": "9f15dbea",
   "metadata": {},
   "outputs": [],
   "source": [
    "for year in trades:\n",
    "    for trade in trades[year]:\n",
    "        date = datetime.datetime.strptime(trade['date'], '%d%b%Y')\n",
    "        try:\n",
    "            gm_1 = df[ (df['team']==trade['team1']) & (df['start_date'] < date) ].iloc[-1]['name']\n",
    "            gm_2 = df[ (df['team']==trade['team2']) & (df['start_date'] < date) ].iloc[-1]['name']\n",
    "            trade['team1_gm'] = gm_1\n",
    "            trade['team2_gm'] = gm_2\n",
    "        except Exception:\n",
    "            pprint.pprint(trade)\n",
    "\n",
    "    #     print(date)\n",
    "    #     print(trade['team1'] + ': ' + gm_1)\n",
    "    #     print(trade['team2'] + ': ' + gm_2)\n",
    "    #     print('\\n\\n')\n",
    "    \n",
    "# save to json file in data directory\n",
    "path = os.getcwd()\n",
    "path = os.path.abspath(os.path.join(path, os.pardir, 'data/trades_and_gms.json'))\n",
    "with open(path, 'w') as f:\n",
    "        json.dump(trades, f, indent=2)"
   ]
  },
  {
   "cell_type": "code",
   "execution_count": 7,
   "id": "9e092d17",
   "metadata": {},
   "outputs": [],
   "source": [
    "# for trade in trades['2014-15']:\n",
    "#     print(trade['date'])\n",
    "#     print(trade['team1_gm'])\n",
    "#     print(trade['team2_gm'])\n",
    "#     print()"
   ]
  },
  {
   "cell_type": "markdown",
   "id": "421656d4",
   "metadata": {},
   "source": [
    "#### 3. Create Knowledge Graph"
   ]
  },
  {
   "cell_type": "code",
   "execution_count": 8,
   "id": "932cf6e5",
   "metadata": {},
   "outputs": [],
   "source": [
    "import networkx as nx"
   ]
  },
  {
   "cell_type": "code",
   "execution_count": 9,
   "id": "34e1c977",
   "metadata": {},
   "outputs": [
    {
     "name": "stdout",
     "output_type": "stream",
     "text": [
      "09Oct2020: Kevin Cheveldayoff and Kelly McCrimmon\n",
      "08Oct2020: Jarmo Kekalainen and Bill Zito\n",
      "08Oct2020: Pierre Dorion and Bob Murray\n",
      "08Oct2020: Tom Fitzgerald and Jarmo Kekalainen\n",
      "07Oct2020: Pierre Dorion and Jim Rutherford\n",
      "07Oct2020: Bill Guerin and David Poile\n",
      "07Oct2020: Rob Blake and Jeff Gorton\n",
      "06Oct2020: Marc Bergevin and Jarmo Kekalainen\n",
      "05Oct2020: Doug Wilson and Bill Guerin\n",
      "04Oct2020: Stan Bowman and Rob Blake\n",
      "02Oct2020: Pierre Dorion and Bill Zito\n",
      "28Sep2020: Stan Bowman and Kelly McCrimmon\n",
      "26Sep2020: Steve Yzerman and Jeff Gorton\n",
      "24Sep2020: Jim Rutherford and Bill Zito\n",
      "16Sep2020: Bill Guerin and Kevyn Adams\n",
      "12Sep2020: Marc Bergevin and Don Waddell\n",
      "11Sep2020: Bill Guerin and Jim Rutherford\n",
      "02Sep2020: Marc Bergevin and Doug Armstrong\n",
      "25Aug2020: Jim Rutherford and Kyle Dubas\n"
     ]
    }
   ],
   "source": [
    "G = nx.MultiGraph()\n",
    "for trade in trades['2019-20']:\n",
    "    G.add_edge(trade['team1_gm'], trade['team2_gm'])\n",
    "for trade in trades['2020-21']:  \n",
    "    G.add_edge(trade['team1_gm'], trade['team2_gm'])\n",
    "    print(trade['date'] + ': ' + trade['team1_gm'] + ' and ' + trade['team2_gm'] )"
   ]
  },
  {
   "cell_type": "code",
   "execution_count": 10,
   "id": "04e58f21",
   "metadata": {},
   "outputs": [
    {
     "data": {
      "text/plain": [
       "NodeView(('Lou Lamoriello', 'Pierre Dorion', 'Don Waddell', 'Dale Tallon', 'Ken Holland', 'Steve Yzerman', 'Jeff Gorton', 'Tom Fitzgerald', 'Julien BriseBois', 'Doug Wilson', 'Kelly McCrimmon', 'Stan Bowman', 'Jim Rutherford', 'Jason Botterill', 'Joe Sakic', 'Chuck Fletcher', 'Marc Bergevin', 'Kyle Dubas', 'Bob Murray', 'Don Sweeney', 'Brad Treliving', 'Rob Blake', 'Jim Nill', 'Jarmo Kekalainen', 'Jim Benning', 'David Poile', 'Brian MacLellan', 'John Chayka', 'Kevin Cheveldayoff', 'Doug Armstrong', 'Bill Guerin', 'Ray Shero', 'Paul Fenton', 'Bill Zito', 'Kevyn Adams'))"
      ]
     },
     "execution_count": 10,
     "metadata": {},
     "output_type": "execute_result"
    }
   ],
   "source": [
    "G.nodes"
   ]
  },
  {
   "cell_type": "code",
   "execution_count": 11,
   "id": "1e49da6d",
   "metadata": {},
   "outputs": [
    {
     "data": {
      "image/png": "[encoded data removed]",
      "text/plain": [
       "<Figure size 432x288 with 1 Axes>"
      ]
     },
     "metadata": {},
     "output_type": "display_data"
    }
   ],
   "source": [
    "nx.draw(G, with_labels=True)\n",
    "nx.draw(G)"
   ]
  },
  {
   "cell_type": "code",
   "execution_count": 12,
   "id": "15ae3de1",
   "metadata": {},
   "outputs": [
    {
     "data": {
      "text/plain": [
       "1"
      ]
     },
     "execution_count": 12,
     "metadata": {},
     "output_type": "execute_result"
    }
   ],
   "source": [
    "g = nx.MultiGraph()\n",
    "g.add_edge(1,2)\n",
    "g.add_edge(1,3)\n",
    "g.add_edge(1,2)\n"
   ]
  },
  {
   "cell_type": "code",
   "execution_count": 13,
   "id": "1f03aae6",
   "metadata": {
    "scrolled": true
   },
   "outputs": [
    {
     "data": {
      "image/png": "[encoded data removed]",
      "text/plain": [
       "<Figure size 432x288 with 1 Axes>"
      ]
     },
     "metadata": {},
     "output_type": "display_data"
    }
   ],
   "source": [
    "nx.draw(g)"
   ]
  },
  {
   "cell_type": "markdown",
   "id": "6aec993c",
   "metadata": {},
   "source": [
    "#### 3.1 Use ipycytoscape"
   ]
  },
  {
   "cell_type": "code",
   "execution_count": 14,
   "id": "a0e85259",
   "metadata": {},
   "outputs": [],
   "source": [
    "import ipycytoscape\n",
    "import ipywidgets as widgets"
   ]
  },
  {
   "cell_type": "code",
   "execution_count": 15,
   "id": "bd1105de",
   "metadata": {},
   "outputs": [],
   "source": [
    "# undirected = ipycytoscape.CytoscapeWidget()\n",
    "# undirected.graph.add_graph_from_networkx(G)\n",
    "# display(undirected)"
   ]
  },
  {
   "cell_type": "code",
   "execution_count": 16,
   "id": "240cb94e",
   "metadata": {},
   "outputs": [],
   "source": [
    "# G2 = nx.Graph()\n",
    "# G2.add_node('separate node 1')\n",
    "# G2.add_node('separate node 2')\n",
    "# G2.add_edge('separate node 1', 'separate node 2')\n",
    "# undirected.graph.add_graph_from_networkx(G2)"
   ]
  },
  {
   "cell_type": "markdown",
   "id": "b540709f",
   "metadata": {},
   "source": [
    "##### 3.1.1 Convert data to necessary JSON format\n",
    "define functions ⬇️"
   ]
  },
  {
   "cell_type": "code",
   "execution_count": 17,
   "id": "06c779e6",
   "metadata": {},
   "outputs": [],
   "source": [
    "def flatten_data(data):\n",
    "    '''Return a list of trades, omitting season specifier'''\n",
    "    trades = []\n",
    "    for year in data:\n",
    "        trades.extend([trade for trade in data[year]])\n",
    "    return trades\n",
    "\n",
    "def return_trades_since_date(data, date_str):\n",
    "    '''date needs to be in format ddbbbYYYY -> date format string == '%d%b%Y'\n",
    "        ex. date_str = 12Apr2021'''\n",
    "    date_compare = datetime.datetime.strptime(date_str, '%d%b%Y')\n",
    "    trades = [trade for trade in data if datetime.datetime.strptime(trade['date'], '%d%b%Y') >= date_compare]\n",
    "    return trades\n",
    "\n",
    "def return_trades_for_team(data, team_str):\n",
    "    '''Returns trades matching a team name'''\n",
    "    return [trade for trade in data if (trade['team1']==team_str or trade['team2']==team_str)]\n",
    "\n",
    "def return_trades_for_gm(data, gm_str):\n",
    "    '''Returns trades matching a team name'''\n",
    "    return [trade for trade in data if (trade['team1_gm']==gm_str or trade['team2_gm']==gm_str)]\n",
    "\n",
    "def return_team_nodes(data):\n",
    "    '''Returns nodes using team names in necessary ipycytoscape JSON format'''\n",
    "    teams = set()\n",
    "    for trade in data:\n",
    "        teams.add(trade['team1'])\n",
    "        teams.add(trade['team2'])\n",
    "        \n",
    "    nodes = [({ 'data': { 'id': team, 'name': team.split()[-1] } }) for team in teams]\n",
    "    return nodes\n",
    "\n",
    "def return_team_edges(data):\n",
    "    '''Returns edges using team names in necessary ipycytoscape JSON format'''\n",
    "    edges = []\n",
    "    for trade in data:\n",
    "        edges.append({'data': { 'source': trade['team1'], 'target': trade['team2']}})\n",
    "    return edges\n",
    "\n",
    "def return_gm_nodes(data):\n",
    "    '''Returns nodes using gm names in necessary ipycytoscape JSON format'''\n",
    "    gms = set()\n",
    "    for trade in data:\n",
    "        gms.add(trade['team1_gm'])\n",
    "        gms.add(trade['team2_gm'])\n",
    "        \n",
    "    nodes = [({ 'data': { 'id': gm, 'name': gm } }) for gm in gms]\n",
    "    return nodes\n",
    "\n",
    "def return_gm_edges(data):\n",
    "    '''Returns edges using gm names in necessary ipycytoscape JSON format'''\n",
    "    edges = []\n",
    "    for trade in data:\n",
    "        edges.append({'data': { 'source': trade['team1_gm'], 'target': trade['team2_gm']}})\n",
    "    return edges"
   ]
  },
  {
   "cell_type": "markdown",
   "id": "59febea2",
   "metadata": {},
   "source": [
    "example of function usage ⬇️"
   ]
  },
  {
   "cell_type": "code",
   "execution_count": 18,
   "id": "a33b8b27",
   "metadata": {},
   "outputs": [],
   "source": [
    "trades_flattened = flatten_data(trades)\n",
    "trades_since_date = return_trades_since_date(trades_flattened, '16Jul2019')\n",
    "trades_chicago = return_trades_for_team(trades_since_date, 'Chicago Blackhawks')\n",
    "trades_waddell = return_trades_for_gm(return_trades_since_date(trades_flattened, '01Jan2000'), 'Don Waddell')\n",
    "nodes_team = return_team_nodes(trades_since_date)\n",
    "edges_team = return_team_edges(trades_since_date)\n",
    "nodes_gm = return_gm_nodes(trades_since_date)\n",
    "edges_gm = return_gm_edges(trades_since_date)\n",
    "# pprint.pprint(trades_waddell)\n",
    "# trades_since_date[0:2]"
   ]
  },
  {
   "cell_type": "markdown",
   "id": "2a203ac8",
   "metadata": {},
   "source": [
    "##### 3.2 Create Knowledge Graph of Trades Between Clubs"
   ]
  },
  {
   "cell_type": "code",
   "execution_count": 19,
   "id": "2fc4a3bf",
   "metadata": {},
   "outputs": [
    {
     "data": {
      "application/vnd.jupyter.widget-view+json": {
       "model_id": "13b335bbe5db43a7862f6e8d86cfb335",
       "version_major": 2,
       "version_minor": 0
      },
      "text/plain": [
       "CytoscapeWidget(cytoscape_layout={'name': 'cola'}, cytoscape_style=[{'selector': 'node', 'css': {'content': 'd…"
      ]
     },
     "metadata": {},
     "output_type": "display_data"
    }
   ],
   "source": [
    "# get data in correct format\n",
    "trades_flattened = flatten_data(trades)\n",
    "trades_since_date = return_trades_since_date(trades_flattened, '01Jul2021')\n",
    "nodes = return_team_nodes(trades_since_date)\n",
    "edges = return_team_edges(trades_since_date)\n",
    "data = {\n",
    "    'nodes': nodes,\n",
    "    'edges': edges\n",
    "}\n",
    "\n",
    "cytoscapeobj = ipycytoscape.CytoscapeWidget()\n",
    "cytoscapeobj.graph.add_graph_from_json(data)\n",
    "\n",
    "cytoscapeobj.set_style([{\n",
    "                        'selector': 'node',\n",
    "                        'css': {\n",
    "                            'content': 'data(name)',\n",
    "                            'text-valign': 'center',\n",
    "                            'color': 'white',\n",
    "                            'text-outline-width': 2,\n",
    "                            'text-outline-color': 'green',\n",
    "                            'background-color': 'green'\n",
    "                        }\n",
    "                        },\n",
    "                        {\n",
    "                        'selector': ':selected',\n",
    "                        'css': {\n",
    "                            'background-color': 'black',\n",
    "                            'line-color': 'black',\n",
    "                            'target-arrow-color': 'black',\n",
    "                            'source-arrow-color': 'black',\n",
    "                            'text-outline-color': 'black'\n",
    "                        }}\n",
    "                        ])\n",
    "\n",
    "display(cytoscapeobj)"
   ]
  },
  {
   "cell_type": "markdown",
   "id": "fc7910e8",
   "metadata": {},
   "source": [
    "##### 3.3 Create Knowledge Graph of Trades Between General Managers"
   ]
  },
  {
   "cell_type": "code",
   "execution_count": 20,
   "id": "5798fb5b",
   "metadata": {},
   "outputs": [
    {
     "data": {
      "application/vnd.jupyter.widget-view+json": {
       "model_id": "7e1a6da92805407583694153b7c5bc5c",
       "version_major": 2,
       "version_minor": 0
      },
      "text/plain": [
       "CytoscapeWidget(cytoscape_layout={'name': 'cola'}, cytoscape_style=[{'selector': 'node', 'css': {'content': 'd…"
      ]
     },
     "metadata": {},
     "output_type": "display_data"
    }
   ],
   "source": [
    "# get data in correct format\n",
    "trades_flattened = flatten_data(trades)\n",
    "trades_since_date = return_trades_since_date(trades_flattened, '01Jul2021')\n",
    "nodes = return_gm_nodes(trades_since_date)\n",
    "edges = return_gm_edges(trades_since_date)\n",
    "data = {\n",
    "    'nodes': nodes,\n",
    "    'edges': edges\n",
    "}\n",
    "\n",
    "cytoscapeobj = ipycytoscape.CytoscapeWidget()\n",
    "cytoscapeobj.graph.add_graph_from_json(data)\n",
    "\n",
    "cytoscapeobj.set_style([{\n",
    "                        'selector': 'node',\n",
    "                        'css': {\n",
    "                            'content': 'data(name)',\n",
    "                            'text-valign': 'center',\n",
    "                            'color': 'white',\n",
    "                            'text-outline-width': 2,\n",
    "                            'text-outline-color': 'green',\n",
    "                            'background-color': 'green'\n",
    "                        }\n",
    "                        },\n",
    "                        {\n",
    "                        'selector': ':selected',\n",
    "                        'css': {\n",
    "                            'background-color': 'black',\n",
    "                            'line-color': 'black',\n",
    "                            'target-arrow-color': 'black',\n",
    "                            'source-arrow-color': 'black',\n",
    "                            'text-outline-color': 'black'\n",
    "                        }}\n",
    "                        ])\n",
    "\n",
    "display(cytoscapeobj)"
   ]
  },
  {
   "cell_type": "markdown",
   "id": "2570b753",
   "metadata": {},
   "source": [
    "##### 3.4 Create Knowledge Graph of Trades By a Single Team\n",
    "Chicago Blackhawks"
   ]
  },
  {
   "cell_type": "code",
   "execution_count": 21,
   "id": "ee813e29",
   "metadata": {},
   "outputs": [
    {
     "name": "stdout",
     "output_type": "stream",
     "text": [
      "Chicago Blackhawks Trades since 01Jul2015\n"
     ]
    },
    {
     "data": {
      "application/vnd.jupyter.widget-view+json": {
       "model_id": "98cfc6d160e44cddb5a962cdca2b8b77",
       "version_major": 2,
       "version_minor": 0
      },
      "text/plain": [
       "CytoscapeWidget(cytoscape_layout={'name': 'cola'}, cytoscape_style=[{'selector': 'node', 'css': {'content': 'd…"
      ]
     },
     "metadata": {},
     "output_type": "display_data"
    }
   ],
   "source": [
    "# get data in correct format\n",
    "trades_flattened = flatten_data(trades)\n",
    "trades_since_date = return_trades_since_date(trades_flattened, '01Jul2015')\n",
    "trades_chicago = return_trades_for_team(trades_since_date, 'Chicago Blackhawks')\n",
    "nodes = return_team_nodes(trades_chicago)\n",
    "edges = return_team_edges(trades_chicago)\n",
    "data = {\n",
    "    'nodes': nodes,\n",
    "    'edges': edges\n",
    "}\n",
    "\n",
    "cytoscapeobj = ipycytoscape.CytoscapeWidget()\n",
    "cytoscapeobj.graph.add_graph_from_json(data)\n",
    "\n",
    "cytoscapeobj.set_style([{\n",
    "                        'selector': 'node',\n",
    "                        'css': {\n",
    "                            'content': 'data(name)',\n",
    "                            'text-valign': 'center',\n",
    "                            'color': 'white',\n",
    "                            'text-outline-width': 2,\n",
    "                            'text-outline-color': 'red',\n",
    "                            'background-color': 'red'\n",
    "                        }\n",
    "                        },\n",
    "                        {\n",
    "                        'selector': ':selected',\n",
    "                        'css': {\n",
    "                            'background-color': 'black',\n",
    "                            'line-color': 'black',\n",
    "                            'target-arrow-color': 'black',\n",
    "                            'source-arrow-color': 'black',\n",
    "                            'text-outline-color': 'black'\n",
    "                        }}\n",
    "                        ])\n",
    "print('Chicago Blackhawks Trades since 01Jul2015')\n",
    "display(cytoscapeobj)"
   ]
  },
  {
   "cell_type": "markdown",
   "id": "a0f59c8b",
   "metadata": {},
   "source": [
    "Carolina Hurricanes"
   ]
  },
  {
   "cell_type": "code",
   "execution_count": 22,
   "id": "b899ea82",
   "metadata": {},
   "outputs": [
    {
     "name": "stdout",
     "output_type": "stream",
     "text": [
      "Carolina Hurricanes Trades since 01Jul2015\n"
     ]
    },
    {
     "data": {
      "application/vnd.jupyter.widget-view+json": {
       "model_id": "465bb2e127994a23bc584e57cb2376b9",
       "version_major": 2,
       "version_minor": 0
      },
      "text/plain": [
       "CytoscapeWidget(cytoscape_layout={'name': 'cola'}, cytoscape_style=[{'selector': 'node', 'css': {'content': 'd…"
      ]
     },
     "metadata": {},
     "output_type": "display_data"
    }
   ],
   "source": [
    "# get data in correct format\n",
    "trades_flattened = flatten_data(trades)\n",
    "trades_since_date = return_trades_since_date(trades_flattened, '01Jul2015')\n",
    "trades_chicago = return_trades_for_team(trades_since_date, 'Carolina Hurricanes')\n",
    "nodes = return_team_nodes(trades_chicago)\n",
    "edges = return_team_edges(trades_chicago)\n",
    "data = {\n",
    "    'nodes': nodes,\n",
    "    'edges': edges\n",
    "}\n",
    "\n",
    "cytoscapeobj = ipycytoscape.CytoscapeWidget()\n",
    "cytoscapeobj.graph.add_graph_from_json(data)\n",
    "\n",
    "cytoscapeobj.set_style([{\n",
    "                        'selector': 'node',\n",
    "                        'css': {\n",
    "                            'content': 'data(name)',\n",
    "                            'text-valign': 'center',\n",
    "                            'color': 'white',\n",
    "                            'text-outline-width': 2,\n",
    "                            'text-outline-color': 'red',\n",
    "                            'background-color': 'black'\n",
    "                        }\n",
    "                        },\n",
    "                        {\n",
    "                        'selector': ':selected',\n",
    "                        'css': {\n",
    "                            'background-color': 'black',\n",
    "                            'line-color': 'black',\n",
    "                            'target-arrow-color': 'black',\n",
    "                            'source-arrow-color': 'black',\n",
    "                            'text-outline-color': 'black'\n",
    "                        }}\n",
    "                        ])\n",
    "print('Carolina Hurricanes Trades since 01Jul2015')\n",
    "display(cytoscapeobj)"
   ]
  },
  {
   "cell_type": "markdown",
   "id": "dc5b6f8d",
   "metadata": {},
   "source": [
    "##### 3.5 Create Knowledge Graph of Trades By a General Manager"
   ]
  },
  {
   "cell_type": "code",
   "execution_count": 23,
   "id": "52daefc4",
   "metadata": {},
   "outputs": [
    {
     "name": "stdout",
     "output_type": "stream",
     "text": [
      "Don Waddell All Time Trades\n"
     ]
    },
    {
     "data": {
      "application/vnd.jupyter.widget-view+json": {
       "model_id": "f7e08c5caf01411283cdcc308dfa3d07",
       "version_major": 2,
       "version_minor": 0
      },
      "text/plain": [
       "CytoscapeWidget(cytoscape_layout={'name': 'cola'}, cytoscape_style=[{'selector': 'node', 'css': {'content': 'd…"
      ]
     },
     "metadata": {},
     "output_type": "display_data"
    }
   ],
   "source": [
    "# get data in correct format\n",
    "trades_flattened = flatten_data(trades)\n",
    "trades_since_date = return_trades_since_date(trades_flattened, '01Jan2000')\n",
    "trades_waddell = return_trades_for_gm(trades_since_date, 'Don Waddell')\n",
    "nodes = return_team_nodes(trades_waddell)\n",
    "edges = return_team_edges(trades_waddell)\n",
    "data = {\n",
    "    'nodes': nodes,\n",
    "    'edges': edges\n",
    "}\n",
    "\n",
    "cytoscapeobj = ipycytoscape.CytoscapeWidget()\n",
    "cytoscapeobj.graph.add_graph_from_json(data)\n",
    "\n",
    "cytoscapeobj.set_style([{\n",
    "                        'selector': 'node',\n",
    "                        'css': {\n",
    "                            'content': 'data(name)',\n",
    "                            'text-valign': 'center',\n",
    "                            'color': 'white',\n",
    "                            'text-outline-width': 2,\n",
    "                            'text-outline-color': 'red',\n",
    "                            'background-color': 'black'\n",
    "                        }\n",
    "                        },\n",
    "                        {\n",
    "                        'selector': ':selected',\n",
    "                        'css': {\n",
    "                            'background-color': 'black',\n",
    "                            'line-color': 'black',\n",
    "                            'target-arrow-color': 'black',\n",
    "                            'source-arrow-color': 'black',\n",
    "                            'text-outline-color': 'black'\n",
    "                        }}\n",
    "                        ])\n",
    "print('Don Waddell All Time Trades')\n",
    "display(cytoscapeobj)\n"
   ]
  },
  {
   "cell_type": "code",
   "execution_count": 24,
   "id": "0577bc40",
   "metadata": {},
   "outputs": [
    {
     "name": "stdout",
     "output_type": "stream",
     "text": [
      "Don Waddell All Time Trades\n"
     ]
    },
    {
     "data": {
      "application/vnd.jupyter.widget-view+json": {
       "model_id": "30607d8aa97c4960a465b7a9b836f7da",
       "version_major": 2,
       "version_minor": 0
      },
      "text/plain": [
       "CytoscapeWidget(cytoscape_layout={'name': 'cola'}, cytoscape_style=[{'selector': 'node', 'css': {'content': 'd…"
      ]
     },
     "metadata": {},
     "output_type": "display_data"
    }
   ],
   "source": [
    "# get data in correct format\n",
    "trades_flattened = flatten_data(trades)\n",
    "trades_since_date = return_trades_since_date(trades_flattened, '01Jan2000')\n",
    "trades_francis = return_trades_for_gm(trades_since_date, 'Ron Francis')\n",
    "nodes = return_gm_nodes(trades_francis)\n",
    "edges = return_gm_edges(trades_francis)\n",
    "data = {\n",
    "    'nodes': nodes,\n",
    "    'edges': edges\n",
    "}\n",
    "\n",
    "cytoscapeobj = ipycytoscape.CytoscapeWidget()\n",
    "cytoscapeobj.graph.add_graph_from_json(data)\n",
    "\n",
    "cytoscapeobj.set_style([{\n",
    "                        'selector': 'node',\n",
    "                        'css': {\n",
    "                            'content': 'data(name)',\n",
    "                            'text-valign': 'center',\n",
    "                            'color': 'white',\n",
    "                            'text-outline-width': 2,\n",
    "                            'text-outline-color': 'navy',\n",
    "                            'background-color': 'black'\n",
    "                        }\n",
    "                        },\n",
    "                        {\n",
    "                        'selector': ':selected',\n",
    "                        'css': {\n",
    "                            'background-color': 'teal',\n",
    "                            'line-color': 'black',\n",
    "                            'target-arrow-color': 'black',\n",
    "                            'source-arrow-color': 'black',\n",
    "                            'text-outline-color': 'black'\n",
    "                        }}\n",
    "                        ])\n",
    "print('Don Waddell All Time Trades')\n",
    "display(cytoscapeobj)"
   ]
  },
  {
   "cell_type": "code",
   "execution_count": null,
   "id": "b4fb0be2",
   "metadata": {},
   "outputs": [],
   "source": []
  }
 ],
 "metadata": {
  "kernelspec": {
   "display_name": "Python 3 (ipykernel)",
   "language": "python",
   "name": "python3"
  },
  "language_info": {
   "codemirror_mode": {
    "name": "ipython",
    "version": 3
   },
   "file_extension": ".py",
   "mimetype": "text/x-python",
   "name": "python",
   "nbconvert_exporter": "python",
   "pygments_lexer": "ipython3",
   "version": "3.9.5"
  }
 },
 "nbformat": 4,
 "nbformat_minor": 5
}
