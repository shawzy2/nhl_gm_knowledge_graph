{
 "cells": [
  {
   "cell_type": "code",
   "execution_count": 1,
   "id": "aee1452b",
   "metadata": {},
   "outputs": [],
   "source": [
    "import requests\n",
    "import json\n",
    "import pprint\n",
    "from urllib.request import urlopen\n",
    "import re\n",
    "from bs4 import BeautifulSoup\n",
    "import datetime\n",
    "import os"
   ]
  },
  {
   "cell_type": "markdown",
   "id": "55d70b51",
   "metadata": {},
   "source": [
    "# Scraping Trade Data\n",
    "We will be scraping trade data by season from the source: https://www.nhltradetracker.com/user/trade_list_by_season/2020-21/1\n",
    "\n",
    "_Note: the below cells are contain exploratory code...to run data scraper, skip to the bottom of the notebook_"
   ]
  },
  {
   "cell_type": "code",
   "execution_count": 2,
   "id": "4e03ec64",
   "metadata": {},
   "outputs": [],
   "source": [
    "url = 'https://www.nhltradetracker.com/user/trade_list_by_season/2020-21/1'\n",
    "page = urlopen(url)\n",
    "html = page.read().decode(\"utf-8\")\n",
    "\n",
    "pattern = \"<title.*?>.*?</title.*?>\"\n",
    "match_results = re.search(pattern, html, re.IGNORECASE)\n",
    "trades = match_results.group()\n",
    "\n"
   ]
  },
  {
   "cell_type": "code",
   "execution_count": 3,
   "id": "29a3e8cd",
   "metadata": {},
   "outputs": [],
   "source": [
    "soup = BeautifulSoup(html, 'html.parser')"
   ]
  },
  {
   "cell_type": "code",
   "execution_count": 4,
   "id": "84dc704b",
   "metadata": {},
   "outputs": [],
   "source": [
    "# print(soup.prettify())"
   ]
  },
  {
   "cell_type": "code",
   "execution_count": 5,
   "id": "f0734c10",
   "metadata": {},
   "outputs": [
    {
     "name": "stdout",
     "output_type": "stream",
     "text": [
      "19\n"
     ]
    }
   ],
   "source": [
    "trade_tables = soup.find('div', id='container').find_all('table', align='center')\n",
    "print(len(trade_tables))"
   ]
  },
  {
   "cell_type": "code",
   "execution_count": 6,
   "id": "05557562",
   "metadata": {
    "scrolled": false
   },
   "outputs": [
    {
     "name": "stdout",
     "output_type": "stream",
     "text": [
      "<table align=\"center\" style=\"border:1px solid #666666; margin-top:5px;\" width=\"95%\">\n",
      "<input type=\"hidden\" value=\"10203\"/>\n",
      "<tr>\n",
      "<td align=\"center\" class=\"label\" width=\"40%\"><strong>Winnipeg Jets acquire</strong></td>\n",
      "<td align=\"center\" class=\"label\" width=\"20%\"><strong>Date</strong></td>\n",
      "<td align=\"center\" class=\"label\" width=\"40%\"><strong>Vegas Golden Knights acquire</strong></td>\n",
      "</tr>\n",
      "<tr>\n",
      "<td valign=\"top\" width=\"40%\">\n",
      "<table width=\"100%\">\n",
      "<tr>\n",
      "<td width=\"25%\">\n",
      "<img height=\"40\" src=\"/asset/team_logos/Winnipeg_Jets.gif\" width=\"60\"/>\n",
      "</td>\n",
      "<td valign=\"top\" width=\"75%\">\n",
      "<span class=\"link\"><a href=\"javascript:show('69840||| Paul Stastny')\"> Paul Stastny</a><br/></span>\n",
      "</td>\n",
      "</tr>\n",
      "</table>\n",
      "</td>\n",
      "<td align=\"center\" valign=\"top\" width=\"20%\">October 9, 2020</td>\n",
      "<td valign=\"top\" width=\"40%\">\n",
      "<table width=\"100%\">\n",
      "<tr>\n",
      "<td valign=\"top\" width=\"75%\">\n",
      "<span class=\"link\"><a href=\"javascript:show('168005||| Carl Dahlstrom')\"> Carl Dahlstrom</a><br/></span>\n",
      "<span class=\"black\">2022 conditional 4th round pick<br/></span>\n",
      "</td>\n",
      "<td width=\"25%\">\n",
      "<img height=\"40\" src=\"/asset/team_logos/Vegas_Golden_Knights.gif\" width=\"60\"/>\n",
      "</td>\n",
      "</tr>\n",
      "</table>\n",
      "</td>\n",
      "</tr>\n",
      "<tr>\n",
      "<td colspan=\"5\" valign=\"top\">\n",
      "<table>\n",
      "<tr>\n",
      "<td align=\"left\" class=\"comment\" valign=\"top\">Comment:</td>\n",
      "<td align=\"left\" valign=\"top\">Vegas receives the 2022 4th round pick if Stastny plays 5 games for Winnipeg in the 2020-21 season.\r\n",
      "</td>\n",
      "</tr>\n",
      "</table>\n",
      "</td>\n",
      "</tr>\n",
      "</table>\n",
      "\n",
      "\n",
      "\n",
      "\n"
     ]
    }
   ],
   "source": [
    "tr = []\n",
    "for i in range(1):\n",
    "    print(trade_tables[i])\n",
    "    tr = trade_tables[i].find_all('tr')\n",
    "    print('\\n\\n\\n')"
   ]
  },
  {
   "cell_type": "code",
   "execution_count": 7,
   "id": "6904b30d",
   "metadata": {},
   "outputs": [
    {
     "data": {
      "text/plain": [
       "['Winnipeg Jets', 'Dat', 'Vegas Golden Knights']"
      ]
     },
     "execution_count": 7,
     "metadata": {},
     "output_type": "execute_result"
    }
   ],
   "source": [
    "trade_row_header_items = [content.getText().strip(' acquire') for content in tr[0].find_all('td', align='center')]\n",
    "trade_row_header_items"
   ]
  },
  {
   "cell_type": "code",
   "execution_count": 8,
   "id": "d691d359",
   "metadata": {},
   "outputs": [
    {
     "name": "stdout",
     "output_type": "stream",
     "text": [
      "Winnipeg Jets\n"
     ]
    }
   ],
   "source": [
    "print('Winnipeg Jets acquire'.strip(' acquire'))"
   ]
  },
  {
   "cell_type": "code",
   "execution_count": 9,
   "id": "69c6be40",
   "metadata": {},
   "outputs": [
    {
     "name": "stdout",
     "output_type": "stream",
     "text": [
      "['Paul Stastny']\n",
      "['Carl Dahlstrom', '2022 conditional 4th round pick']\n"
     ]
    }
   ],
   "source": [
    "def return_players_involved(players):\n",
    "    return [player.getText().strip() for player in players.find_all('span')]\n",
    "\n",
    "for players in tr[1].find_all('td', width='75%'):\n",
    "    print(return_players_involved(players))"
   ]
  },
  {
   "cell_type": "code",
   "execution_count": null,
   "id": "28547dfe",
   "metadata": {},
   "outputs": [],
   "source": []
  },
  {
   "cell_type": "code",
   "execution_count": 10,
   "id": "8449808a",
   "metadata": {},
   "outputs": [
    {
     "data": {
      "text/plain": [
       "<td align=\"center\" valign=\"top\" width=\"20%\">October 9, 2020</td>"
      ]
     },
     "execution_count": 10,
     "metadata": {},
     "output_type": "execute_result"
    }
   ],
   "source": [
    "tr[1].find('td', width='20%')"
   ]
  },
  {
   "cell_type": "code",
   "execution_count": 11,
   "id": "91a46fc3",
   "metadata": {
    "scrolled": false
   },
   "outputs": [],
   "source": [
    "def return_teams_involved(teams_html):\n",
    "    return [team.getText().strip(' acquire') for team in teams_html.find_all('td', align='center')]\n",
    "\n",
    "def return_players_involved(players_html):\n",
    "    players_by_team = []\n",
    "    for players in players_html.find_all('td', width='75%'):\n",
    "        players_by_team.append([player.getText().strip() for player in players.find_all('span')])\n",
    "    return players_by_team\n",
    "\n",
    "def return_date(players_html):\n",
    "    date_str = players_html.find('td', width='20%').getText()\n",
    "    return datetime.datetime.strptime(date_str, '%B %d, %Y').date().strftime(\"%d%b%Y\")\n",
    "\n",
    "def return_trades_from_html(html):\n",
    "    trades = []\n",
    "    trade_tables = html.find('div', id='container').find_all('table', align='center')\n",
    "    for i in range(len(trade_tables)):\n",
    "        # extract html\n",
    "        tr = trade_tables[i].find_all('tr')\n",
    "\n",
    "        # extract teams involved in trade\n",
    "        teams_list = return_teams_involved(tr[0])\n",
    "\n",
    "        # extract players involved in trade\n",
    "        players_list = return_players_involved(tr[1])\n",
    "\n",
    "        # extract date of trade\n",
    "        date_of_trade = return_date(tr[1])\n",
    "\n",
    "        # form dict object\n",
    "        trade = {\n",
    "            'team1': teams_list[0],\n",
    "            'team2': teams_list[2],\n",
    "            'team1_aquires': players_list[0],\n",
    "            'team2_aquires': players_list[1],\n",
    "            'date': date_of_trade\n",
    "        }\n",
    "        trades.append(trade)\n",
    "    return trades"
   ]
  },
  {
   "cell_type": "markdown",
   "id": "603d7deb",
   "metadata": {},
   "source": [
    "## Run data scraping to collect trades since 2000-01 season"
   ]
  },
  {
   "cell_type": "code",
   "execution_count": 12,
   "id": "94cc48b3",
   "metadata": {},
   "outputs": [],
   "source": [
    "trades_by_season = {}\n",
    "\n",
    "start_szn = 2000\n",
    "\n",
    "while start_szn < 2022:\n",
    "    \n",
    "    # format http link\n",
    "    szn_str = str(start_szn) + '-' + str(start_szn+1)[2:]\n",
    "    page_num = 1\n",
    "    \n",
    "    trades_for_szn = []\n",
    "    while True:\n",
    "        url = 'https://www.nhltradetracker.com/user/trade_list_by_season/' + szn_str + '/' + str(page_num)\n",
    "        page = urlopen(url)\n",
    "        html = page.read().decode(\"utf-8\")\n",
    "        soup = BeautifulSoup(html, 'html.parser')\n",
    "        \n",
    "        trades_for_this_page = return_trades_from_html(soup)\n",
    "        if len(trades_for_this_page) == 0:\n",
    "            break\n",
    "        trades_for_szn.extend(trades_for_this_page)\n",
    "        \n",
    "        page_num += 1\n",
    "    \n",
    "    \n",
    "    trades_by_season[szn_str] = trades_for_szn\n",
    "    start_szn += 1\n",
    "    \n",
    "    \n",
    "# save to json file in data directory\n",
    "path = os.getcwd()\n",
    "path = os.path.abspath(os.path.join(path, os.pardir, 'data/trades.json'))\n",
    "with open(path, 'w') as f:\n",
    "        json.dump(trades_by_season, f, indent=2)"
   ]
  },
  {
   "cell_type": "code",
   "execution_count": 13,
   "id": "4841c130",
   "metadata": {
    "scrolled": false
   },
   "outputs": [
    {
     "name": "stdout",
     "output_type": "stream",
     "text": [
      "number of trades per season:\n",
      "2000-01: 143\n",
      "2001-02: 130\n",
      "2002-03: 151\n",
      "2003-04: 148\n",
      "2004-05: 30\n",
      "2005-06: 115\n",
      "2006-07: 124\n",
      "2007-08: 93\n",
      "2008-09: 127\n",
      "2009-10: 111\n",
      "2010-11: 120\n",
      "2011-12: 108\n",
      "2012-13: 93\n",
      "2013-14: 91\n",
      "2014-15: 91\n",
      "2015-16: 91\n",
      "2016-17: 89\n",
      "2017-18: 106\n",
      "2018-19: 107\n",
      "2019-20: 110\n",
      "2020-21: 19\n",
      "2021-22: 13\n"
     ]
    }
   ],
   "source": [
    "print('number of trades per season:')\n",
    "for key, value in trades_by_season.items():\n",
    "    print(key + ': ' + str(len(value)))"
   ]
  },
  {
   "cell_type": "code",
   "execution_count": null,
   "id": "43a52dfe",
   "metadata": {},
   "outputs": [],
   "source": []
  },
  {
   "cell_type": "code",
   "execution_count": null,
   "id": "c70dfda8",
   "metadata": {},
   "outputs": [],
   "source": []
  }
 ],
 "metadata": {
  "kernelspec": {
   "display_name": "Python 3 (ipykernel)",
   "language": "python",
   "name": "python3"
  },
  "language_info": {
   "codemirror_mode": {
    "name": "ipython",
    "version": 3
   },
   "file_extension": ".py",
   "mimetype": "text/x-python",
   "name": "python",
   "nbconvert_exporter": "python",
   "pygments_lexer": "ipython3",
   "version": "3.9.5"
  }
 },
 "nbformat": 4,
 "nbformat_minor": 5
}
